{
 "cells": [
  {
   "cell_type": "code",
   "execution_count": 1,
   "id": "4da93e6f",
   "metadata": {
    "collapsed": false,
    "gradient": {
     "editing": false,
     "id": "3f5b3ead",
     "kernelId": "b3ccacec-7d03-46f5-82b0-d91d4c1ee4f7",
     "source_hidden": false
    },
    "jupyter": {
     "outputs_hidden": false
    }
   },
   "outputs": [
    {
     "name": "stdout",
     "output_type": "stream",
     "text": [
      "Looking in indexes: https://pypi.org/simple, https://pypi.ngc.nvidia.com\n",
      "Requirement already satisfied: pandas in /opt/conda/lib/python3.8/site-packages (1.4.1)\n",
      "Requirement already satisfied: numpy>=1.18.5 in /opt/conda/lib/python3.8/site-packages (from pandas) (1.21.2)\n",
      "Requirement already satisfied: pytz>=2020.1 in /opt/conda/lib/python3.8/site-packages (from pandas) (2021.3)\n",
      "Requirement already satisfied: python-dateutil>=2.8.1 in /opt/conda/lib/python3.8/site-packages (from pandas) (2.8.2)\n",
      "Requirement already satisfied: six>=1.5 in /opt/conda/lib/python3.8/site-packages (from python-dateutil>=2.8.1->pandas) (1.16.0)\n",
      "\u001b[33mWARNING: Running pip as the 'root' user can result in broken permissions and conflicting behaviour with the system package manager. It is recommended to use a virtual environment instead: https://pip.pypa.io/warnings/venv\u001b[0m\n",
      "Looking in indexes: https://pypi.org/simple, https://pypi.ngc.nvidia.com\n",
      "Requirement already satisfied: basic-image-eda in /opt/conda/lib/python3.8/site-packages (0.0.3)\n",
      "\u001b[33mWARNING: Running pip as the 'root' user can result in broken permissions and conflicting behaviour with the system package manager. It is recommended to use a virtual environment instead: https://pip.pypa.io/warnings/venv\u001b[0m\n",
      "Looking in indexes: https://pypi.org/simple, https://pypi.ngc.nvidia.com\n",
      "Requirement already satisfied: scikit-image in /opt/conda/lib/python3.8/site-packages (0.19.2)\n",
      "Requirement already satisfied: networkx>=2.2 in /opt/conda/lib/python3.8/site-packages (from scikit-image) (2.7.1)\n",
      "Requirement already satisfied: imageio>=2.4.1 in /opt/conda/lib/python3.8/site-packages (from scikit-image) (2.16.1)\n",
      "Requirement already satisfied: PyWavelets>=1.1.1 in /opt/conda/lib/python3.8/site-packages (from scikit-image) (1.2.0)\n",
      "Requirement already satisfied: numpy>=1.17.0 in /opt/conda/lib/python3.8/site-packages (from scikit-image) (1.21.2)\n",
      "Requirement already satisfied: tifffile>=2019.7.26 in /opt/conda/lib/python3.8/site-packages (from scikit-image) (2022.2.9)\n",
      "Requirement already satisfied: pillow!=7.1.0,!=7.1.1,!=8.3.0,>=6.1.0 in /opt/conda/lib/python3.8/site-packages (from scikit-image) (9.0.1)\n",
      "Requirement already satisfied: scipy>=1.4.1 in /opt/conda/lib/python3.8/site-packages (from scikit-image) (1.6.3)\n",
      "Requirement already satisfied: packaging>=20.0 in /opt/conda/lib/python3.8/site-packages (from scikit-image) (21.0)\n",
      "Requirement already satisfied: pyparsing>=2.0.2 in /opt/conda/lib/python3.8/site-packages (from packaging>=20.0->scikit-image) (2.4.7)\n",
      "\u001b[33mWARNING: Running pip as the 'root' user can result in broken permissions and conflicting behaviour with the system package manager. It is recommended to use a virtual environment instead: https://pip.pypa.io/warnings/venv\u001b[0m\n",
      "Looking in indexes: https://pypi.org/simple, https://pypi.ngc.nvidia.com\n",
      "Requirement already satisfied: matplotlib in /opt/conda/lib/python3.8/site-packages (3.4.3)\n",
      "Requirement already satisfied: pillow>=6.2.0 in /opt/conda/lib/python3.8/site-packages (from matplotlib) (9.0.1)\n",
      "Requirement already satisfied: pyparsing>=2.2.1 in /opt/conda/lib/python3.8/site-packages (from matplotlib) (2.4.7)\n",
      "Requirement already satisfied: cycler>=0.10 in /opt/conda/lib/python3.8/site-packages (from matplotlib) (0.10.0)\n",
      "Requirement already satisfied: kiwisolver>=1.0.1 in /opt/conda/lib/python3.8/site-packages (from matplotlib) (1.3.2)\n",
      "Requirement already satisfied: numpy>=1.16 in /opt/conda/lib/python3.8/site-packages (from matplotlib) (1.21.2)\n",
      "Requirement already satisfied: python-dateutil>=2.7 in /opt/conda/lib/python3.8/site-packages (from matplotlib) (2.8.2)\n",
      "Requirement already satisfied: six in /opt/conda/lib/python3.8/site-packages (from cycler>=0.10->matplotlib) (1.16.0)\n",
      "\u001b[33mWARNING: Running pip as the 'root' user can result in broken permissions and conflicting behaviour with the system package manager. It is recommended to use a virtual environment instead: https://pip.pypa.io/warnings/venv\u001b[0m\n"
     ]
    }
   ],
   "source": [
    "!pip install pandas\n",
    "!pip install basic-image-eda\n",
    "!pip install scikit-image\n",
    "!pip install matplotlib\n",
    "import pandas as pd"
   ]
  },
  {
   "cell_type": "code",
   "execution_count": 2,
   "id": "1e521968",
   "metadata": {
    "collapsed": false,
    "gradient": {
     "editing": false,
     "id": "5d0eba6f",
     "kernelId": "b3ccacec-7d03-46f5-82b0-d91d4c1ee4f7",
     "source_hidden": false
    },
    "jupyter": {
     "outputs_hidden": false
    }
   },
   "outputs": [],
   "source": [
    "train = pd.read_csv('data/train/train1A_relabeled.csv') # reading the csv file"
   ]
  },
  {
   "cell_type": "code",
   "execution_count": 3,
   "id": "18bec598",
   "metadata": {
    "gradient": {
     "editing": false,
     "id": "c3c10e5f",
     "kernelId": "b3ccacec-7d03-46f5-82b0-d91d4c1ee4f7"
    }
   },
   "outputs": [
    {
     "data": {
      "text/html": [
       "<div>\n",
       "<style scoped>\n",
       "    .dataframe tbody tr th:only-of-type {\n",
       "        vertical-align: middle;\n",
       "    }\n",
       "\n",
       "    .dataframe tbody tr th {\n",
       "        vertical-align: top;\n",
       "    }\n",
       "\n",
       "    .dataframe thead th {\n",
       "        text-align: right;\n",
       "    }\n",
       "</style>\n",
       "<table border=\"1\" class=\"dataframe\">\n",
       "  <thead>\n",
       "    <tr style=\"text-align: right;\">\n",
       "      <th></th>\n",
       "      <th>name</th>\n",
       "      <th>upperLength</th>\n",
       "      <th>clothesStyles</th>\n",
       "      <th>hairStyles</th>\n",
       "      <th>upperBlack</th>\n",
       "      <th>upperBrown</th>\n",
       "      <th>upperBlue</th>\n",
       "      <th>upperGreen</th>\n",
       "      <th>upperGray</th>\n",
       "      <th>upperOrange</th>\n",
       "      <th>upperPink</th>\n",
       "      <th>upperPurple</th>\n",
       "      <th>upperRed</th>\n",
       "      <th>upperWhite</th>\n",
       "      <th>upperYellow</th>\n",
       "    </tr>\n",
       "  </thead>\n",
       "  <tbody>\n",
       "    <tr>\n",
       "      <th>0</th>\n",
       "      <td>img_qh_train1A_00000000076.jpg</td>\n",
       "      <td>ShortSleeve</td>\n",
       "      <td>Solidcolor</td>\n",
       "      <td>Short</td>\n",
       "      <td>NaN</td>\n",
       "      <td>NaN</td>\n",
       "      <td>NaN</td>\n",
       "      <td>NaN</td>\n",
       "      <td>NaN</td>\n",
       "      <td>NaN</td>\n",
       "      <td>NaN</td>\n",
       "      <td>NaN</td>\n",
       "      <td>NaN</td>\n",
       "      <td>1.0</td>\n",
       "      <td>NaN</td>\n",
       "    </tr>\n",
       "    <tr>\n",
       "      <th>1</th>\n",
       "      <td>img_qh_train1A_00001004361.jpg</td>\n",
       "      <td>LongSleeve</td>\n",
       "      <td>Solidcolor</td>\n",
       "      <td>Short</td>\n",
       "      <td>1.0</td>\n",
       "      <td>NaN</td>\n",
       "      <td>NaN</td>\n",
       "      <td>NaN</td>\n",
       "      <td>NaN</td>\n",
       "      <td>NaN</td>\n",
       "      <td>NaN</td>\n",
       "      <td>NaN</td>\n",
       "      <td>NaN</td>\n",
       "      <td>NaN</td>\n",
       "      <td>NaN</td>\n",
       "    </tr>\n",
       "    <tr>\n",
       "      <th>2</th>\n",
       "      <td>img_qh_train1A_00002008174.jpg</td>\n",
       "      <td>LongSleeve</td>\n",
       "      <td>Solidcolor</td>\n",
       "      <td>Long</td>\n",
       "      <td>NaN</td>\n",
       "      <td>NaN</td>\n",
       "      <td>NaN</td>\n",
       "      <td>NaN</td>\n",
       "      <td>1.0</td>\n",
       "      <td>NaN</td>\n",
       "      <td>NaN</td>\n",
       "      <td>NaN</td>\n",
       "      <td>NaN</td>\n",
       "      <td>NaN</td>\n",
       "      <td>NaN</td>\n",
       "    </tr>\n",
       "    <tr>\n",
       "      <th>3</th>\n",
       "      <td>img_qh_train1A_00003006632.jpg</td>\n",
       "      <td>LongSleeve</td>\n",
       "      <td>multicolour</td>\n",
       "      <td>Long</td>\n",
       "      <td>0.7</td>\n",
       "      <td>NaN</td>\n",
       "      <td>NaN</td>\n",
       "      <td>NaN</td>\n",
       "      <td>NaN</td>\n",
       "      <td>NaN</td>\n",
       "      <td>NaN</td>\n",
       "      <td>NaN</td>\n",
       "      <td>NaN</td>\n",
       "      <td>0.3</td>\n",
       "      <td>NaN</td>\n",
       "    </tr>\n",
       "    <tr>\n",
       "      <th>4</th>\n",
       "      <td>img_qh_train1A_00004001877.jpg</td>\n",
       "      <td>ShortSleeve</td>\n",
       "      <td>Solidcolor</td>\n",
       "      <td>Short</td>\n",
       "      <td>NaN</td>\n",
       "      <td>NaN</td>\n",
       "      <td>NaN</td>\n",
       "      <td>NaN</td>\n",
       "      <td>NaN</td>\n",
       "      <td>NaN</td>\n",
       "      <td>NaN</td>\n",
       "      <td>NaN</td>\n",
       "      <td>NaN</td>\n",
       "      <td>1.0</td>\n",
       "      <td>NaN</td>\n",
       "    </tr>\n",
       "  </tbody>\n",
       "</table>\n",
       "</div>"
      ],
      "text/plain": [
       "                             name  upperLength clothesStyles hairStyles  \\\n",
       "0  img_qh_train1A_00000000076.jpg  ShortSleeve    Solidcolor      Short   \n",
       "1  img_qh_train1A_00001004361.jpg   LongSleeve    Solidcolor      Short   \n",
       "2  img_qh_train1A_00002008174.jpg   LongSleeve    Solidcolor       Long   \n",
       "3  img_qh_train1A_00003006632.jpg   LongSleeve   multicolour       Long   \n",
       "4  img_qh_train1A_00004001877.jpg  ShortSleeve    Solidcolor      Short   \n",
       "\n",
       "   upperBlack  upperBrown  upperBlue  upperGreen  upperGray  upperOrange  \\\n",
       "0         NaN         NaN        NaN         NaN        NaN          NaN   \n",
       "1         1.0         NaN        NaN         NaN        NaN          NaN   \n",
       "2         NaN         NaN        NaN         NaN        1.0          NaN   \n",
       "3         0.7         NaN        NaN         NaN        NaN          NaN   \n",
       "4         NaN         NaN        NaN         NaN        NaN          NaN   \n",
       "\n",
       "   upperPink  upperPurple  upperRed  upperWhite  upperYellow  \n",
       "0        NaN          NaN       NaN         1.0          NaN  \n",
       "1        NaN          NaN       NaN         NaN          NaN  \n",
       "2        NaN          NaN       NaN         NaN          NaN  \n",
       "3        NaN          NaN       NaN         0.3          NaN  \n",
       "4        NaN          NaN       NaN         1.0          NaN  "
      ]
     },
     "execution_count": 3,
     "metadata": {},
     "output_type": "execute_result"
    }
   ],
   "source": [
    "train.head() # printing first five rows of the file"
   ]
  },
  {
   "cell_type": "code",
   "execution_count": 4,
   "id": "b64e9e45",
   "metadata": {
    "gradient": {
     "editing": false,
     "id": "ce2652e2",
     "kernelId": "b3ccacec-7d03-46f5-82b0-d91d4c1ee4f7"
    }
   },
   "outputs": [
    {
     "data": {
      "text/plain": [
       "Index(['name', 'upperLength', 'clothesStyles', 'hairStyles', 'upperBlack',\n",
       "       'upperBrown', 'upperBlue', 'upperGreen', 'upperGray', 'upperOrange',\n",
       "       'upperPink', 'upperPurple', 'upperRed', 'upperWhite', 'upperYellow'],\n",
       "      dtype='object')"
      ]
     },
     "execution_count": 4,
     "metadata": {},
     "output_type": "execute_result"
    }
   ],
   "source": [
    "train.columns"
   ]
  },
  {
   "cell_type": "code",
   "execution_count": 5,
   "id": "fbdd5f4d",
   "metadata": {
    "gradient": {
     "editing": false,
     "id": "59b087d3",
     "kernelId": "b3ccacec-7d03-46f5-82b0-d91d4c1ee4f7"
    }
   },
   "outputs": [
    {
     "name": "stdout",
     "output_type": "stream",
     "text": [
      "upperLength: \n",
      "NoSleeve          9\n",
      "ShortSleeve     988\n",
      "LongSleeve     3003\n",
      "Name: upperLength, dtype: int64\n"
     ]
    },
    {
     "data": {
      "text/plain": [
       "<AxesSubplot:>"
      ]
     },
     "execution_count": 5,
     "metadata": {},
     "output_type": "execute_result"
    },
    {
     "data": {
      "image/png": "[encoded data removed]",
      "text/plain": [
       "<Figure size 432x288 with 1 Axes>"
      ]
     },
     "metadata": {
      "needs_background": "light"
     },
     "output_type": "display_data"
    }
   ],
   "source": [
    "# print(train.groupby('upperLength').count()['name'])\n",
    "# train['upperLength'].hist()\n",
    "print('upperLength: ')\n",
    "print(train['upperLength'].value_counts(ascending=True))\n",
    "train['upperLength'].value_counts(ascending=True).plot.bar()"
   ]
  },
  {
   "cell_type": "code",
   "execution_count": 6,
   "id": "a6fddf4f",
   "metadata": {
    "gradient": {
     "editing": false,
     "id": "336eff31",
     "kernelId": "b3ccacec-7d03-46f5-82b0-d91d4c1ee4f7"
    }
   },
   "outputs": [
    {
     "name": "stdout",
     "output_type": "stream",
     "text": [
      "clothesStyles: \n",
      "lattice         107\n",
      "multicolour     986\n",
      "Solidcolor     2907\n",
      "Name: clothesStyles, dtype: int64\n"
     ]
    },
    {
     "data": {
      "text/plain": [
       "<AxesSubplot:>"
      ]
     },
     "execution_count": 6,
     "metadata": {},
     "output_type": "execute_result"
    },
    {
     "data": {
      "image/png": "[encoded data removed]",
      "text/plain": [
       "<Figure size 432x288 with 1 Axes>"
      ]
     },
     "metadata": {
      "needs_background": "light"
     },
     "output_type": "display_data"
    }
   ],
   "source": [
    "# print(train.groupby('clothesStyles').count()['name'])\n",
    "# train['clothesStyles'].hist()\n",
    "\n",
    "print('clothesStyles: ')\n",
    "print(train['clothesStyles'].value_counts(ascending=True))\n",
    "train['clothesStyles'].value_counts(ascending=True).plot.bar()"
   ]
  },
  {
   "cell_type": "code",
   "execution_count": 7,
   "id": "7683eed2",
   "metadata": {
    "gradient": {
     "editing": false,
     "id": "ea563138",
     "kernelId": "b3ccacec-7d03-46f5-82b0-d91d4c1ee4f7"
    }
   },
   "outputs": [
    {
     "name": "stdout",
     "output_type": "stream",
     "text": [
      "hairStyles: \n",
      "Bald         7\n",
      "middle     409\n",
      "Long      1620\n",
      "Short     1964\n",
      "Name: hairStyles, dtype: int64\n"
     ]
    },
    {
     "data": {
      "text/plain": [
       "<AxesSubplot:>"
      ]
     },
     "execution_count": 7,
     "metadata": {},
     "output_type": "execute_result"
    },
    {
     "data": {
      "image/png": "[encoded data removed]",
      "text/plain": [
       "<Figure size 432x288 with 1 Axes>"
      ]
     },
     "metadata": {
      "needs_background": "light"
     },
     "output_type": "display_data"
    }
   ],
   "source": [
    "# print(train.groupby('hairStyles').count()['name'])\n",
    "# train['hairStyles'].hist()\n",
    "\n",
    "print('hairStyles: ')\n",
    "print(train['hairStyles'].value_counts(ascending=True))\n",
    "train['hairStyles'].value_counts(ascending=True).plot.bar()"
   ]
  },
  {
   "cell_type": "code",
   "execution_count": 8,
   "id": "ee23ac31",
   "metadata": {
    "gradient": {
     "editing": false,
     "id": "cbdcafc8",
     "kernelId": "b3ccacec-7d03-46f5-82b0-d91d4c1ee4f7"
    }
   },
   "outputs": [
    {
     "name": "stdout",
     "output_type": "stream",
     "text": [
      "upperOrange      67\n",
      "upperPurple     116\n",
      "upperBrown      120\n",
      "upperGreen      125\n",
      "upperYellow     174\n",
      "upperRed        206\n",
      "upperPink       213\n",
      "upperBlue       343\n",
      "upperGray       739\n",
      "upperWhite     1476\n",
      "upperBlack     1626\n",
      "dtype: int64\n"
     ]
    },
    {
     "data": {
      "text/plain": [
       "<AxesSubplot:>"
      ]
     },
     "execution_count": 8,
     "metadata": {},
     "output_type": "execute_result"
    },
    {
     "data": {
      "image/png": "[encoded data removed]",
      "text/plain": [
       "<Figure size 432x288 with 1 Axes>"
      ]
     },
     "metadata": {
      "needs_background": "light"
     },
     "output_type": "display_data"
    }
   ],
   "source": [
    "new_df = train.copy(deep=True)\n",
    "new_df.pop('name')\n",
    "new_df.pop('upperLength')\n",
    "new_df.pop('clothesStyles')\n",
    "new_df.pop('hairStyles')\n",
    "uppercolorsCount = new_df.count().sort_values()\n",
    "print(uppercolorsCount)\n",
    "uppercolorsCount.plot.bar()"
   ]
  },
  {
   "cell_type": "code",
   "execution_count": 9,
   "id": "02cde4c7",
   "metadata": {
    "gradient": {
     "editing": false,
     "id": "318fbedf",
     "kernelId": "b3ccacec-7d03-46f5-82b0-d91d4c1ee4f7"
    }
   },
   "outputs": [
    {
     "data": {
      "text/html": [
       "<div>\n",
       "<style scoped>\n",
       "    .dataframe tbody tr th:only-of-type {\n",
       "        vertical-align: middle;\n",
       "    }\n",
       "\n",
       "    .dataframe tbody tr th {\n",
       "        vertical-align: top;\n",
       "    }\n",
       "\n",
       "    .dataframe thead th {\n",
       "        text-align: right;\n",
       "    }\n",
       "</style>\n",
       "<table border=\"1\" class=\"dataframe\">\n",
       "  <thead>\n",
       "    <tr style=\"text-align: right;\">\n",
       "      <th></th>\n",
       "      <th>name</th>\n",
       "      <th>upperLength</th>\n",
       "      <th>hairStyles</th>\n",
       "      <th>upperBlack</th>\n",
       "      <th>upperBrown</th>\n",
       "      <th>upperBlue</th>\n",
       "      <th>upperGreen</th>\n",
       "      <th>upperGray</th>\n",
       "      <th>upperOrange</th>\n",
       "      <th>upperPink</th>\n",
       "      <th>upperPurple</th>\n",
       "      <th>upperRed</th>\n",
       "      <th>upperWhite</th>\n",
       "      <th>upperYellow</th>\n",
       "    </tr>\n",
       "    <tr>\n",
       "      <th>clothesStyles</th>\n",
       "      <th></th>\n",
       "      <th></th>\n",
       "      <th></th>\n",
       "      <th></th>\n",
       "      <th></th>\n",
       "      <th></th>\n",
       "      <th></th>\n",
       "      <th></th>\n",
       "      <th></th>\n",
       "      <th></th>\n",
       "      <th></th>\n",
       "      <th></th>\n",
       "      <th></th>\n",
       "      <th></th>\n",
       "    </tr>\n",
       "  </thead>\n",
       "  <tbody>\n",
       "    <tr>\n",
       "      <th>Solidcolor</th>\n",
       "      <td>2907</td>\n",
       "      <td>2907</td>\n",
       "      <td>2907</td>\n",
       "      <td>929</td>\n",
       "      <td>60</td>\n",
       "      <td>203</td>\n",
       "      <td>75</td>\n",
       "      <td>406</td>\n",
       "      <td>43</td>\n",
       "      <td>143</td>\n",
       "      <td>78</td>\n",
       "      <td>123</td>\n",
       "      <td>746</td>\n",
       "      <td>101</td>\n",
       "    </tr>\n",
       "    <tr>\n",
       "      <th>lattice</th>\n",
       "      <td>107</td>\n",
       "      <td>107</td>\n",
       "      <td>107</td>\n",
       "      <td>78</td>\n",
       "      <td>6</td>\n",
       "      <td>7</td>\n",
       "      <td>1</td>\n",
       "      <td>29</td>\n",
       "      <td>0</td>\n",
       "      <td>4</td>\n",
       "      <td>0</td>\n",
       "      <td>9</td>\n",
       "      <td>85</td>\n",
       "      <td>3</td>\n",
       "    </tr>\n",
       "    <tr>\n",
       "      <th>multicolour</th>\n",
       "      <td>986</td>\n",
       "      <td>986</td>\n",
       "      <td>986</td>\n",
       "      <td>619</td>\n",
       "      <td>54</td>\n",
       "      <td>133</td>\n",
       "      <td>49</td>\n",
       "      <td>304</td>\n",
       "      <td>24</td>\n",
       "      <td>66</td>\n",
       "      <td>38</td>\n",
       "      <td>74</td>\n",
       "      <td>645</td>\n",
       "      <td>70</td>\n",
       "    </tr>\n",
       "  </tbody>\n",
       "</table>\n",
       "</div>"
      ],
      "text/plain": [
       "               name  upperLength  hairStyles  upperBlack  upperBrown  \\\n",
       "clothesStyles                                                          \n",
       "Solidcolor     2907         2907        2907         929          60   \n",
       "lattice         107          107         107          78           6   \n",
       "multicolour     986          986         986         619          54   \n",
       "\n",
       "               upperBlue  upperGreen  upperGray  upperOrange  upperPink  \\\n",
       "clothesStyles                                                             \n",
       "Solidcolor           203          75        406           43        143   \n",
       "lattice                7           1         29            0          4   \n",
       "multicolour          133          49        304           24         66   \n",
       "\n",
       "               upperPurple  upperRed  upperWhite  upperYellow  \n",
       "clothesStyles                                                  \n",
       "Solidcolor              78       123         746          101  \n",
       "lattice                  0         9          85            3  \n",
       "multicolour             38        74         645           70  "
      ]
     },
     "execution_count": 9,
     "metadata": {},
     "output_type": "execute_result"
    }
   ],
   "source": [
    "clothesStyles_group = train.groupby('clothesStyles').count()\n",
    "clothesStyles_group.head()"
   ]
  },
  {
   "cell_type": "code",
   "execution_count": 10,
   "id": "24a1f29c",
   "metadata": {},
   "outputs": [
    {
     "name": "stdout",
     "output_type": "stream",
     "text": [
      "upperOrange      43\n",
      "upperBrown       60\n",
      "upperGreen       75\n",
      "upperPurple      78\n",
      "upperYellow     101\n",
      "upperRed        123\n",
      "upperPink       143\n",
      "upperBlue       203\n",
      "upperGray       406\n",
      "upperWhite      746\n",
      "upperBlack      929\n",
      "name           2907\n",
      "upperLength    2907\n",
      "hairStyles     2907\n",
      "Name: Solidcolor, dtype: int64\n"
     ]
    },
    {
     "data": {
      "text/plain": [
       "<AxesSubplot:>"
      ]
     },
     "execution_count": 10,
     "metadata": {},
     "output_type": "execute_result"
    },
    {
     "data": {
      "image/png": "[encoded data removed]",
      "text/plain": [
       "<Figure size 432x288 with 1 Axes>"
      ]
     },
     "metadata": {
      "needs_background": "light"
     },
     "output_type": "display_data"
    }
   ],
   "source": [
    "print(clothesStyles_group.loc['Solidcolor'].sort_values())\n",
    "clothesStyles_group.loc['Solidcolor'].sort_values().plot.bar()"
   ]
  },
  {
   "cell_type": "code",
   "execution_count": 11,
   "id": "c4d7995f",
   "metadata": {},
   "outputs": [
    {
     "name": "stdout",
     "output_type": "stream",
     "text": [
      "upperOrange     24\n",
      "upperPurple     38\n",
      "upperGreen      49\n",
      "upperBrown      54\n",
      "upperPink       66\n",
      "upperYellow     70\n",
      "upperRed        74\n",
      "upperBlue      133\n",
      "upperGray      304\n",
      "upperBlack     619\n",
      "upperWhite     645\n",
      "name           986\n",
      "upperLength    986\n",
      "hairStyles     986\n",
      "Name: multicolour, dtype: int64\n"
     ]
    },
    {
     "data": {
      "text/plain": [
       "<AxesSubplot:>"
      ]
     },
     "execution_count": 11,
     "metadata": {},
     "output_type": "execute_result"
    },
    {
     "data": {
      "image/png": "[encoded data removed]",
      "text/plain": [
       "<Figure size 432x288 with 1 Axes>"
      ]
     },
     "metadata": {
      "needs_background": "light"
     },
     "output_type": "display_data"
    }
   ],
   "source": [
    "print(clothesStyles_group.loc['multicolour'].sort_values())\n",
    "clothesStyles_group.loc['multicolour'].sort_values().plot.bar()"
   ]
  },
  {
   "cell_type": "code",
   "execution_count": 12,
   "id": "240e8e4f",
   "metadata": {},
   "outputs": [
    {
     "name": "stdout",
     "output_type": "stream",
     "text": [
      "upperOrange      0\n",
      "upperPurple      0\n",
      "upperGreen       1\n",
      "upperYellow      3\n",
      "upperPink        4\n",
      "upperBrown       6\n",
      "upperBlue        7\n",
      "upperRed         9\n",
      "upperGray       29\n",
      "upperBlack      78\n",
      "upperWhite      85\n",
      "name           107\n",
      "upperLength    107\n",
      "hairStyles     107\n",
      "Name: lattice, dtype: int64\n"
     ]
    },
    {
     "data": {
      "text/plain": [
       "<AxesSubplot:>"
      ]
     },
     "execution_count": 12,
     "metadata": {},
     "output_type": "execute_result"
    },
    {
     "data": {
      "image/png": "[encoded data removed]",
      "text/plain": [
       "<Figure size 432x288 with 1 Axes>"
      ]
     },
     "metadata": {
      "needs_background": "light"
     },
     "output_type": "display_data"
    }
   ],
   "source": [
    "print(clothesStyles_group.loc['lattice'].sort_values())\n",
    "clothesStyles_group.loc['lattice'].sort_values().plot.bar()"
   ]
  },
  {
   "cell_type": "code",
   "execution_count": 13,
   "id": "22b3b44b",
   "metadata": {},
   "outputs": [
    {
     "data": {
      "text/html": [
       "<div>\n",
       "<style scoped>\n",
       "    .dataframe tbody tr th:only-of-type {\n",
       "        vertical-align: middle;\n",
       "    }\n",
       "\n",
       "    .dataframe tbody tr th {\n",
       "        vertical-align: top;\n",
       "    }\n",
       "\n",
       "    .dataframe thead th {\n",
       "        text-align: right;\n",
       "    }\n",
       "</style>\n",
       "<table border=\"1\" class=\"dataframe\">\n",
       "  <thead>\n",
       "    <tr style=\"text-align: right;\">\n",
       "      <th></th>\n",
       "      <th>name</th>\n",
       "      <th>clothesStyles</th>\n",
       "      <th>color_count</th>\n",
       "    </tr>\n",
       "  </thead>\n",
       "  <tbody>\n",
       "    <tr>\n",
       "      <th>0</th>\n",
       "      <td>img_qh_train1A_00000000076.jpg</td>\n",
       "      <td>Solidcolor</td>\n",
       "      <td>1</td>\n",
       "    </tr>\n",
       "    <tr>\n",
       "      <th>1</th>\n",
       "      <td>img_qh_train1A_00001004361.jpg</td>\n",
       "      <td>Solidcolor</td>\n",
       "      <td>1</td>\n",
       "    </tr>\n",
       "    <tr>\n",
       "      <th>2</th>\n",
       "      <td>img_qh_train1A_00002008174.jpg</td>\n",
       "      <td>Solidcolor</td>\n",
       "      <td>1</td>\n",
       "    </tr>\n",
       "    <tr>\n",
       "      <th>3</th>\n",
       "      <td>img_qh_train1A_00003006632.jpg</td>\n",
       "      <td>multicolour</td>\n",
       "      <td>2</td>\n",
       "    </tr>\n",
       "    <tr>\n",
       "      <th>4</th>\n",
       "      <td>img_qh_train1A_00004001877.jpg</td>\n",
       "      <td>Solidcolor</td>\n",
       "      <td>1</td>\n",
       "    </tr>\n",
       "  </tbody>\n",
       "</table>\n",
       "</div>"
      ],
      "text/plain": [
       "                             name clothesStyles  color_count\n",
       "0  img_qh_train1A_00000000076.jpg    Solidcolor            1\n",
       "1  img_qh_train1A_00001004361.jpg    Solidcolor            1\n",
       "2  img_qh_train1A_00002008174.jpg    Solidcolor            1\n",
       "3  img_qh_train1A_00003006632.jpg   multicolour            2\n",
       "4  img_qh_train1A_00004001877.jpg    Solidcolor            1"
      ]
     },
     "execution_count": 13,
     "metadata": {},
     "output_type": "execute_result"
    }
   ],
   "source": [
    "color_count_df = train.copy(deep=True)\n",
    "colors = ['upperBlack',\n",
    "       'upperBrown', 'upperBlue', 'upperGreen', 'upperGray', 'upperOrange',\n",
    "       'upperPink', 'upperPurple', 'upperRed', 'upperWhite', 'upperYellow']\n",
    "def apply_color_count(series):\n",
    "    count = 0\n",
    "    for i in colors:\n",
    "        if series[i] > 0:\n",
    "            count = count + 1\n",
    "    return count\n",
    "\n",
    "color_count_df[\"color_count\"] = color_count_df.apply(apply_color_count, axis=1)\n",
    "\n",
    "color_count_df = color_count_df.drop(['upperLength', 'hairStyles', 'upperBlack',\n",
    "       'upperBrown', 'upperBlue', 'upperGreen', 'upperGray', 'upperOrange',\n",
    "       'upperPink', 'upperPurple', 'upperRed', 'upperWhite', 'upperYellow'], axis=1)\n",
    "\n",
    "color_count_df.head()"
   ]
  },
  {
   "cell_type": "code",
   "execution_count": 14,
   "id": "c447d13a",
   "metadata": {},
   "outputs": [],
   "source": [
    "for index, row in color_count_df.iterrows():\n",
    "    if row['clothesStyles'] == 'Solidcolor' and row['color_count'] > 1:\n",
    "        print('[error label Solidcolor] name: ', row['name'])\n",
    "    if row['clothesStyles'] == 'lattice' and row['color_count'] < 2:\n",
    "        print('[error label lattice] name: ', row['name'])\n",
    "    if row['clothesStyles'] == 'multicolour' and row['color_count'] < 2:\n",
    "        print('[error label multicolour] name: ', row['name'])"
   ]
  },
  {
   "cell_type": "code",
   "execution_count": 15,
   "id": "13f4ff7e",
   "metadata": {},
   "outputs": [
    {
     "data": {
      "text/html": [
       "<div>\n",
       "<style scoped>\n",
       "    .dataframe tbody tr th:only-of-type {\n",
       "        vertical-align: middle;\n",
       "    }\n",
       "\n",
       "    .dataframe tbody tr th {\n",
       "        vertical-align: top;\n",
       "    }\n",
       "\n",
       "    .dataframe thead th {\n",
       "        text-align: right;\n",
       "    }\n",
       "</style>\n",
       "<table border=\"1\" class=\"dataframe\">\n",
       "  <thead>\n",
       "    <tr style=\"text-align: right;\">\n",
       "      <th></th>\n",
       "      <th>clothesStyles</th>\n",
       "      <th>one</th>\n",
       "      <th>two</th>\n",
       "      <th>three</th>\n",
       "    </tr>\n",
       "  </thead>\n",
       "  <tbody>\n",
       "    <tr>\n",
       "      <th>0</th>\n",
       "      <td>Solidcolor</td>\n",
       "      <td>1</td>\n",
       "      <td>0</td>\n",
       "      <td>0</td>\n",
       "    </tr>\n",
       "    <tr>\n",
       "      <th>1</th>\n",
       "      <td>Solidcolor</td>\n",
       "      <td>1</td>\n",
       "      <td>0</td>\n",
       "      <td>0</td>\n",
       "    </tr>\n",
       "    <tr>\n",
       "      <th>2</th>\n",
       "      <td>Solidcolor</td>\n",
       "      <td>1</td>\n",
       "      <td>0</td>\n",
       "      <td>0</td>\n",
       "    </tr>\n",
       "    <tr>\n",
       "      <th>3</th>\n",
       "      <td>multicolour</td>\n",
       "      <td>0</td>\n",
       "      <td>1</td>\n",
       "      <td>0</td>\n",
       "    </tr>\n",
       "    <tr>\n",
       "      <th>4</th>\n",
       "      <td>Solidcolor</td>\n",
       "      <td>1</td>\n",
       "      <td>0</td>\n",
       "      <td>0</td>\n",
       "    </tr>\n",
       "  </tbody>\n",
       "</table>\n",
       "</div>"
      ],
      "text/plain": [
       "  clothesStyles  one  two  three\n",
       "0    Solidcolor    1    0      0\n",
       "1    Solidcolor    1    0      0\n",
       "2    Solidcolor    1    0      0\n",
       "3   multicolour    0    1      0\n",
       "4    Solidcolor    1    0      0"
      ]
     },
     "execution_count": 15,
     "metadata": {},
     "output_type": "execute_result"
    }
   ],
   "source": [
    "color_frequency_df = color_count_df.copy(deep=True)\n",
    "def apply_color_frequency_item(series, frequency):\n",
    "    if series['color_count'] == frequency:\n",
    "        return 1\n",
    "    else:\n",
    "        return 0\n",
    "\n",
    "color_frequency_df[\"one\"] = color_frequency_df.apply(apply_color_frequency_item, args=(1,), axis=1)\n",
    "color_frequency_df[\"two\"] = color_frequency_df.apply(apply_color_frequency_item, args=(2,), axis=1)\n",
    "color_frequency_df[\"three\"] = color_frequency_df.apply(apply_color_frequency_item, args=(3,), axis=1)\n",
    "\n",
    "color_frequency_df = color_frequency_df.drop(['name', 'color_count'], axis=1)\n",
    "color_frequency_df.head()"
   ]
  },
  {
   "cell_type": "code",
   "execution_count": 16,
   "id": "7ee2a3f0",
   "metadata": {},
   "outputs": [
    {
     "data": {
      "text/html": [
       "<div>\n",
       "<style scoped>\n",
       "    .dataframe tbody tr th:only-of-type {\n",
       "        vertical-align: middle;\n",
       "    }\n",
       "\n",
       "    .dataframe tbody tr th {\n",
       "        vertical-align: top;\n",
       "    }\n",
       "\n",
       "    .dataframe thead th {\n",
       "        text-align: right;\n",
       "    }\n",
       "</style>\n",
       "<table border=\"1\" class=\"dataframe\">\n",
       "  <thead>\n",
       "    <tr style=\"text-align: right;\">\n",
       "      <th></th>\n",
       "      <th>one</th>\n",
       "      <th>two</th>\n",
       "      <th>three</th>\n",
       "    </tr>\n",
       "    <tr>\n",
       "      <th>clothesStyles</th>\n",
       "      <th></th>\n",
       "      <th></th>\n",
       "      <th></th>\n",
       "    </tr>\n",
       "  </thead>\n",
       "  <tbody>\n",
       "    <tr>\n",
       "      <th>Solidcolor</th>\n",
       "      <td>2907</td>\n",
       "      <td>0</td>\n",
       "      <td>0</td>\n",
       "    </tr>\n",
       "    <tr>\n",
       "      <th>lattice</th>\n",
       "      <td>0</td>\n",
       "      <td>99</td>\n",
       "      <td>8</td>\n",
       "    </tr>\n",
       "    <tr>\n",
       "      <th>multicolour</th>\n",
       "      <td>0</td>\n",
       "      <td>882</td>\n",
       "      <td>104</td>\n",
       "    </tr>\n",
       "  </tbody>\n",
       "</table>\n",
       "</div>"
      ],
      "text/plain": [
       "                one  two  three\n",
       "clothesStyles                  \n",
       "Solidcolor     2907    0      0\n",
       "lattice           0   99      8\n",
       "multicolour       0  882    104"
      ]
     },
     "execution_count": 16,
     "metadata": {},
     "output_type": "execute_result"
    }
   ],
   "source": [
    "color_frequency_df = color_frequency_df.groupby('clothesStyles').sum()\n",
    "color_frequency_df.head()"
   ]
  },
  {
   "cell_type": "code",
   "execution_count": 17,
   "id": "3721c0bc",
   "metadata": {},
   "outputs": [
    {
     "data": {
      "text/plain": [
       "<AxesSubplot:xlabel='clothesStyles'>"
      ]
     },
     "execution_count": 17,
     "metadata": {},
     "output_type": "execute_result"
    },
    {
     "data": {
      "image/png": "[encoded data removed]",
      "text/plain": [
       "<Figure size 432x288 with 1 Axes>"
      ]
     },
     "metadata": {
      "needs_background": "light"
     },
     "output_type": "display_data"
    }
   ],
   "source": [
    "color_frequency_df.plot.bar()"
   ]
  },
  {
   "cell_type": "code",
   "execution_count": 18,
   "id": "f94663e5",
   "metadata": {},
   "outputs": [
    {
     "name": "stdout",
     "output_type": "stream",
     "text": [
      "\n",
      "found 4000 images.\n",
      "Using 8 threads. (max:8)\n",
      "\n"
     ]
    },
    {
     "name": "stderr",
     "output_type": "stream",
     "text": [
      "100%|██████████| 4000/4000 [00:03<00:00, 1038.76it/s]\n"
     ]
    },
    {
     "name": "stdout",
     "output_type": "stream",
     "text": [
      "\n",
      "*--------------------------------------------------------------------------------------*\n",
      "number of images                         |  4000\n",
      "\n",
      "dtype                                    |  uint8\n",
      "channels                                 |  [3]\n",
      "extensions                               |  ['jpg']\n",
      "\n",
      "min height                               |  102\n",
      "max height                               |  650\n",
      "mean height                              |  276.5775\n",
      "median height                            |  252\n",
      "\n",
      "min width                                |  34\n",
      "max width                                |  466\n",
      "mean width                               |  111.763\n",
      "median width                             |  100\n",
      "\n",
      "mean height/width ratio                  |  2.4746785608832975\n",
      "median height/width ratio                |  2.52\n",
      "recommended input size(by mean)          |  [280 112] (h x w, multiples of 8)\n",
      "recommended input size(by mean)          |  [272 112] (h x w, multiples of 16)\n",
      "recommended input size(by mean)          |  [288  96] (h x w, multiples of 32)\n",
      "\n",
      "channel mean(0~1)                        |  [0.38409257 0.39312777 0.41374138]\n",
      "channel std(0~1)                         |  [0.24571171 0.25555196 0.25309744]\n",
      "*--------------------------------------------------------------------------------------*\n",
      "eda ended in 00 hours 00 minutes 04 seconds\n"
     ]
    },
    {
     "data": {
      "image/png": "[encoded data removed]",
      "text/plain": [
       "<Figure size 576x432 with 1 Axes>"
      ]
     },
     "metadata": {
      "needs_background": "light"
     },
     "output_type": "display_data"
    },
    {
     "data": {
      "image/png": "[encoded data removed]",
      "text/plain": [
       "<Figure size 720x432 with 2 Axes>"
      ]
     },
     "metadata": {
      "needs_background": "light"
     },
     "output_type": "display_data"
    },
    {
     "data": {
      "text/plain": [
       "{'dtype': 'uint8',\n",
       " 'channels': [3],\n",
       " 'extensions': ['jpg'],\n",
       " 'min_h': 102,\n",
       " 'max_h': 650,\n",
       " 'mean_h': 276.5775,\n",
       " 'median_h': 252,\n",
       " 'min_w': 34,\n",
       " 'max_w': 466,\n",
       " 'mean_w': 111.763,\n",
       " 'median_w': 100,\n",
       " 'mean_hw_ratio': 2.4746785608832975,\n",
       " 'median_hw_ratio': 2.52,\n",
       " 'rec_hw_size_8': array([280, 112]),\n",
       " 'rec_hw_size_16': array([272, 112]),\n",
       " 'rec_hw_size_32': array([288,  96]),\n",
       " 'mean': array([0.38409257, 0.39312777, 0.41374138], dtype=float32),\n",
       " 'std': array([0.24571171, 0.25555196, 0.25309744], dtype=float32)}"
      ]
     },
     "execution_count": 18,
     "metadata": {},
     "output_type": "execute_result"
    }
   ],
   "source": [
    "from basic_image_eda import BasicImageEDA\n",
    "\n",
    "data_dir = \"./data/train/train1A/\"\n",
    "# BasicImageEDA.explore(data_dir)\n",
    "extensions = ['png', 'jpg', 'jpeg']\n",
    "threads = 0\n",
    "dimension_plot = True\n",
    "channel_hist = True\n",
    "nonzero = False\n",
    "hw_division_factor = 1.0\n",
    "\n",
    "BasicImageEDA.explore(data_dir, extensions, threads, dimension_plot, channel_hist, nonzero, hw_division_factor)"
   ]
  },
  {
   "cell_type": "code",
   "execution_count": null,
   "id": "363b9225",
   "metadata": {},
   "outputs": [],
   "source": []
  }
 ],
 "metadata": {
  "kernelspec": {
   "display_name": "Python 3 (ipykernel)",
   "language": "python",
   "name": "python3"
  },
  "language_info": {
   "codemirror_mode": {
    "name": "ipython",
    "version": 3
   },
   "file_extension": ".py",
   "mimetype": "text/x-python",
   "name": "python",
   "nbconvert_exporter": "python",
   "pygments_lexer": "ipython3",
   "version": "3.9.7"
  }
 },
 "nbformat": 4,
 "nbformat_minor": 5
}
