{
 "cells": [
  {
   "cell_type": "code",
   "execution_count": 2,
   "id": "b1191297",
   "metadata": {
    "collapsed": false,
    "gradient": {
     "editing": false,
     "id": "d27ec776",
     "kernelId": "",
     "source_hidden": false
    },
    "jupyter": {
     "outputs_hidden": false
    }
   },
   "outputs": [
    {
     "name": "stdout",
     "output_type": "stream",
     "text": [
      "Looking in indexes: https://pypi.org/simple, https://pypi.ngc.nvidia.com\n",
      "Requirement already satisfied: pandas in /opt/conda/lib/python3.8/site-packages (1.4.1)\n",
      "Requirement already satisfied: pytz>=2020.1 in /opt/conda/lib/python3.8/site-packages (from pandas) (2021.3)\n",
      "Requirement already satisfied: numpy>=1.18.5 in /opt/conda/lib/python3.8/site-packages (from pandas) (1.21.2)\n",
      "Requirement already satisfied: python-dateutil>=2.8.1 in /opt/conda/lib/python3.8/site-packages (from pandas) (2.8.2)\n",
      "Requirement already satisfied: six>=1.5 in /opt/conda/lib/python3.8/site-packages (from python-dateutil>=2.8.1->pandas) (1.16.0)\n",
      "\u001b[33mWARNING: Running pip as the 'root' user can result in broken permissions and conflicting behaviour with the system package manager. It is recommended to use a virtual environment instead: https://pip.pypa.io/warnings/venv\u001b[0m\n"
     ]
    }
   ],
   "source": [
    "!pip install pandas\n",
    "# !pip install basic-image-eda\n",
    "# !pip install scikit-image\n",
    "# !pip install matplotlib\n",
    "import pandas as pd"
   ]
  },
  {
   "cell_type": "code",
   "execution_count": 3,
   "id": "b1b0d182",
   "metadata": {
    "collapsed": false,
    "gradient": {
     "editing": false,
     "id": "e978f720",
     "kernelId": "",
     "source_hidden": false
    },
    "jupyter": {
     "outputs_hidden": false
    }
   },
   "outputs": [],
   "source": [
    "train = pd.read_csv('data/train22A/train2_new.csv') # reading the csv file"
   ]
  },
  {
   "cell_type": "code",
   "execution_count": 4,
   "id": "d201ccaf",
   "metadata": {
    "gradient": {
     "editing": false,
     "id": "794d8e40",
     "kernelId": ""
    }
   },
   "outputs": [
    {
     "data": {
      "text/html": [
       "<div>\n",
       "<style scoped>\n",
       "    .dataframe tbody tr th:only-of-type {\n",
       "        vertical-align: middle;\n",
       "    }\n",
       "\n",
       "    .dataframe tbody tr th {\n",
       "        vertical-align: top;\n",
       "    }\n",
       "\n",
       "    .dataframe thead th {\n",
       "        text-align: right;\n",
       "    }\n",
       "</style>\n",
       "<table border=\"1\" class=\"dataframe\">\n",
       "  <thead>\n",
       "    <tr style=\"text-align: right;\">\n",
       "      <th></th>\n",
       "      <th>name</th>\n",
       "      <th>upperLength</th>\n",
       "      <th>clothesStyles</th>\n",
       "      <th>hairStyles</th>\n",
       "      <th>lowerLength</th>\n",
       "      <th>lowerStyles</th>\n",
       "      <th>shoesStyles</th>\n",
       "      <th>towards</th>\n",
       "      <th>upperBlack</th>\n",
       "      <th>upperBrown</th>\n",
       "      <th>...</th>\n",
       "      <th>lowerBrown</th>\n",
       "      <th>lowerBlue</th>\n",
       "      <th>lowerGreen</th>\n",
       "      <th>lowerGray</th>\n",
       "      <th>lowerOrange</th>\n",
       "      <th>lowerPink</th>\n",
       "      <th>lowerPurple</th>\n",
       "      <th>lowerRed</th>\n",
       "      <th>lowerWhite</th>\n",
       "      <th>lowerYellow</th>\n",
       "    </tr>\n",
       "  </thead>\n",
       "  <tbody>\n",
       "    <tr>\n",
       "      <th>0</th>\n",
       "      <td>img_qh_train2_00000006345.jpg</td>\n",
       "      <td>LongSleeve</td>\n",
       "      <td>Solidcolor</td>\n",
       "      <td>Short</td>\n",
       "      <td>Skirt</td>\n",
       "      <td>Solidcolor</td>\n",
       "      <td>Sandals</td>\n",
       "      <td>right</td>\n",
       "      <td>NaN</td>\n",
       "      <td>NaN</td>\n",
       "      <td>...</td>\n",
       "      <td>NaN</td>\n",
       "      <td>NaN</td>\n",
       "      <td>NaN</td>\n",
       "      <td>NaN</td>\n",
       "      <td>NaN</td>\n",
       "      <td>NaN</td>\n",
       "      <td>NaN</td>\n",
       "      <td>NaN</td>\n",
       "      <td>NaN</td>\n",
       "      <td>NaN</td>\n",
       "    </tr>\n",
       "    <tr>\n",
       "      <th>1</th>\n",
       "      <td>img_qh_train2_00001008825.jpg</td>\n",
       "      <td>LongSleeve</td>\n",
       "      <td>multicolour</td>\n",
       "      <td>Short</td>\n",
       "      <td>Trousers</td>\n",
       "      <td>Solidcolor</td>\n",
       "      <td>Sneaker</td>\n",
       "      <td>back</td>\n",
       "      <td>0.4</td>\n",
       "      <td>NaN</td>\n",
       "      <td>...</td>\n",
       "      <td>NaN</td>\n",
       "      <td>NaN</td>\n",
       "      <td>NaN</td>\n",
       "      <td>NaN</td>\n",
       "      <td>NaN</td>\n",
       "      <td>NaN</td>\n",
       "      <td>NaN</td>\n",
       "      <td>NaN</td>\n",
       "      <td>NaN</td>\n",
       "      <td>NaN</td>\n",
       "    </tr>\n",
       "    <tr>\n",
       "      <th>2</th>\n",
       "      <td>img_qh_train2_00002004117.jpg</td>\n",
       "      <td>LongSleeve</td>\n",
       "      <td>multicolour</td>\n",
       "      <td>Long</td>\n",
       "      <td>Trousers</td>\n",
       "      <td>Solidcolor</td>\n",
       "      <td>Sneaker</td>\n",
       "      <td>right</td>\n",
       "      <td>NaN</td>\n",
       "      <td>NaN</td>\n",
       "      <td>...</td>\n",
       "      <td>NaN</td>\n",
       "      <td>NaN</td>\n",
       "      <td>NaN</td>\n",
       "      <td>NaN</td>\n",
       "      <td>NaN</td>\n",
       "      <td>NaN</td>\n",
       "      <td>NaN</td>\n",
       "      <td>NaN</td>\n",
       "      <td>NaN</td>\n",
       "      <td>NaN</td>\n",
       "    </tr>\n",
       "    <tr>\n",
       "      <th>3</th>\n",
       "      <td>img_qh_train2_00003002526.jpg</td>\n",
       "      <td>LongSleeve</td>\n",
       "      <td>multicolour</td>\n",
       "      <td>Short</td>\n",
       "      <td>Trousers</td>\n",
       "      <td>Solidcolor</td>\n",
       "      <td>Sneaker</td>\n",
       "      <td>front</td>\n",
       "      <td>0.8</td>\n",
       "      <td>NaN</td>\n",
       "      <td>...</td>\n",
       "      <td>NaN</td>\n",
       "      <td>1.0</td>\n",
       "      <td>NaN</td>\n",
       "      <td>NaN</td>\n",
       "      <td>NaN</td>\n",
       "      <td>NaN</td>\n",
       "      <td>NaN</td>\n",
       "      <td>NaN</td>\n",
       "      <td>NaN</td>\n",
       "      <td>NaN</td>\n",
       "    </tr>\n",
       "    <tr>\n",
       "      <th>4</th>\n",
       "      <td>img_qh_train2_00004004439.jpg</td>\n",
       "      <td>LongSleeve</td>\n",
       "      <td>Solidcolor</td>\n",
       "      <td>Long</td>\n",
       "      <td>Trousers</td>\n",
       "      <td>Solidcolor</td>\n",
       "      <td>Sneaker</td>\n",
       "      <td>right</td>\n",
       "      <td>NaN</td>\n",
       "      <td>NaN</td>\n",
       "      <td>...</td>\n",
       "      <td>1.0</td>\n",
       "      <td>NaN</td>\n",
       "      <td>NaN</td>\n",
       "      <td>NaN</td>\n",
       "      <td>NaN</td>\n",
       "      <td>NaN</td>\n",
       "      <td>NaN</td>\n",
       "      <td>NaN</td>\n",
       "      <td>NaN</td>\n",
       "      <td>NaN</td>\n",
       "    </tr>\n",
       "  </tbody>\n",
       "</table>\n",
       "<p>5 rows × 30 columns</p>\n",
       "</div>"
      ],
      "text/plain": [
       "                            name upperLength clothesStyles hairStyles  \\\n",
       "0  img_qh_train2_00000006345.jpg  LongSleeve    Solidcolor      Short   \n",
       "1  img_qh_train2_00001008825.jpg  LongSleeve   multicolour      Short   \n",
       "2  img_qh_train2_00002004117.jpg  LongSleeve   multicolour       Long   \n",
       "3  img_qh_train2_00003002526.jpg  LongSleeve   multicolour      Short   \n",
       "4  img_qh_train2_00004004439.jpg  LongSleeve    Solidcolor       Long   \n",
       "\n",
       "  lowerLength lowerStyles shoesStyles towards  upperBlack  upperBrown  ...  \\\n",
       "0       Skirt  Solidcolor     Sandals   right         NaN         NaN  ...   \n",
       "1    Trousers  Solidcolor     Sneaker    back         0.4         NaN  ...   \n",
       "2    Trousers  Solidcolor     Sneaker   right         NaN         NaN  ...   \n",
       "3    Trousers  Solidcolor     Sneaker   front         0.8         NaN  ...   \n",
       "4    Trousers  Solidcolor     Sneaker   right         NaN         NaN  ...   \n",
       "\n",
       "   lowerBrown  lowerBlue  lowerGreen  lowerGray  lowerOrange  lowerPink  \\\n",
       "0         NaN        NaN         NaN        NaN          NaN        NaN   \n",
       "1         NaN        NaN         NaN        NaN          NaN        NaN   \n",
       "2         NaN        NaN         NaN        NaN          NaN        NaN   \n",
       "3         NaN        1.0         NaN        NaN          NaN        NaN   \n",
       "4         1.0        NaN         NaN        NaN          NaN        NaN   \n",
       "\n",
       "   lowerPurple  lowerRed  lowerWhite  lowerYellow  \n",
       "0          NaN       NaN         NaN          NaN  \n",
       "1          NaN       NaN         NaN          NaN  \n",
       "2          NaN       NaN         NaN          NaN  \n",
       "3          NaN       NaN         NaN          NaN  \n",
       "4          NaN       NaN         NaN          NaN  \n",
       "\n",
       "[5 rows x 30 columns]"
      ]
     },
     "execution_count": 4,
     "metadata": {},
     "output_type": "execute_result"
    }
   ],
   "source": [
    "train.head() # printing first five rows of the file"
   ]
  },
  {
   "cell_type": "code",
   "execution_count": 5,
   "id": "8c74ebf1",
   "metadata": {
    "gradient": {
     "editing": false,
     "id": "24378f20",
     "kernelId": ""
    }
   },
   "outputs": [
    {
     "data": {
      "text/plain": [
       "Index(['name', 'upperLength', 'clothesStyles', 'hairStyles', 'lowerLength',\n",
       "       'lowerStyles', 'shoesStyles', 'towards', 'upperBlack', 'upperBrown',\n",
       "       'upperBlue', 'upperGreen', 'upperGray', 'upperOrange', 'upperPink',\n",
       "       'upperPurple', 'upperRed', 'upperWhite', 'upperYellow', 'lowerBlack',\n",
       "       'lowerBrown', 'lowerBlue', 'lowerGreen', 'lowerGray', 'lowerOrange',\n",
       "       'lowerPink', 'lowerPurple', 'lowerRed', 'lowerWhite', 'lowerYellow'],\n",
       "      dtype='object')"
      ]
     },
     "execution_count": 5,
     "metadata": {},
     "output_type": "execute_result"
    }
   ],
   "source": [
    "train.columns"
   ]
  },
  {
   "cell_type": "code",
   "execution_count": 6,
   "id": "5d8dcc15",
   "metadata": {},
   "outputs": [],
   "source": [
    "train.drop(['upperLength', 'clothesStyles', 'hairStyles', 'upperBlack', 'upperBrown',\n",
    "       'upperBlue', 'upperGreen', 'upperGray', 'upperOrange', 'upperPink',\n",
    "       'upperPurple', 'upperRed', 'upperWhite', 'upperYellow'], axis=1, inplace=True)"
   ]
  },
  {
   "cell_type": "code",
   "execution_count": 7,
   "id": "e8d1fe66",
   "metadata": {},
   "outputs": [
    {
     "data": {
      "text/html": [
       "<div>\n",
       "<style scoped>\n",
       "    .dataframe tbody tr th:only-of-type {\n",
       "        vertical-align: middle;\n",
       "    }\n",
       "\n",
       "    .dataframe tbody tr th {\n",
       "        vertical-align: top;\n",
       "    }\n",
       "\n",
       "    .dataframe thead th {\n",
       "        text-align: right;\n",
       "    }\n",
       "</style>\n",
       "<table border=\"1\" class=\"dataframe\">\n",
       "  <thead>\n",
       "    <tr style=\"text-align: right;\">\n",
       "      <th></th>\n",
       "      <th>name</th>\n",
       "      <th>lowerLength</th>\n",
       "      <th>lowerStyles</th>\n",
       "      <th>shoesStyles</th>\n",
       "      <th>towards</th>\n",
       "      <th>lowerBlack</th>\n",
       "      <th>lowerBrown</th>\n",
       "      <th>lowerBlue</th>\n",
       "      <th>lowerGreen</th>\n",
       "      <th>lowerGray</th>\n",
       "      <th>lowerOrange</th>\n",
       "      <th>lowerPink</th>\n",
       "      <th>lowerPurple</th>\n",
       "      <th>lowerRed</th>\n",
       "      <th>lowerWhite</th>\n",
       "      <th>lowerYellow</th>\n",
       "    </tr>\n",
       "  </thead>\n",
       "  <tbody>\n",
       "    <tr>\n",
       "      <th>0</th>\n",
       "      <td>img_qh_train2_00000006345.jpg</td>\n",
       "      <td>Skirt</td>\n",
       "      <td>Solidcolor</td>\n",
       "      <td>Sandals</td>\n",
       "      <td>right</td>\n",
       "      <td>1.0</td>\n",
       "      <td>NaN</td>\n",
       "      <td>NaN</td>\n",
       "      <td>NaN</td>\n",
       "      <td>NaN</td>\n",
       "      <td>NaN</td>\n",
       "      <td>NaN</td>\n",
       "      <td>NaN</td>\n",
       "      <td>NaN</td>\n",
       "      <td>NaN</td>\n",
       "      <td>NaN</td>\n",
       "    </tr>\n",
       "    <tr>\n",
       "      <th>1</th>\n",
       "      <td>img_qh_train2_00001008825.jpg</td>\n",
       "      <td>Trousers</td>\n",
       "      <td>Solidcolor</td>\n",
       "      <td>Sneaker</td>\n",
       "      <td>back</td>\n",
       "      <td>1.0</td>\n",
       "      <td>NaN</td>\n",
       "      <td>NaN</td>\n",
       "      <td>NaN</td>\n",
       "      <td>NaN</td>\n",
       "      <td>NaN</td>\n",
       "      <td>NaN</td>\n",
       "      <td>NaN</td>\n",
       "      <td>NaN</td>\n",
       "      <td>NaN</td>\n",
       "      <td>NaN</td>\n",
       "    </tr>\n",
       "    <tr>\n",
       "      <th>2</th>\n",
       "      <td>img_qh_train2_00002004117.jpg</td>\n",
       "      <td>Trousers</td>\n",
       "      <td>Solidcolor</td>\n",
       "      <td>Sneaker</td>\n",
       "      <td>right</td>\n",
       "      <td>1.0</td>\n",
       "      <td>NaN</td>\n",
       "      <td>NaN</td>\n",
       "      <td>NaN</td>\n",
       "      <td>NaN</td>\n",
       "      <td>NaN</td>\n",
       "      <td>NaN</td>\n",
       "      <td>NaN</td>\n",
       "      <td>NaN</td>\n",
       "      <td>NaN</td>\n",
       "      <td>NaN</td>\n",
       "    </tr>\n",
       "    <tr>\n",
       "      <th>3</th>\n",
       "      <td>img_qh_train2_00003002526.jpg</td>\n",
       "      <td>Trousers</td>\n",
       "      <td>Solidcolor</td>\n",
       "      <td>Sneaker</td>\n",
       "      <td>front</td>\n",
       "      <td>NaN</td>\n",
       "      <td>NaN</td>\n",
       "      <td>1.0</td>\n",
       "      <td>NaN</td>\n",
       "      <td>NaN</td>\n",
       "      <td>NaN</td>\n",
       "      <td>NaN</td>\n",
       "      <td>NaN</td>\n",
       "      <td>NaN</td>\n",
       "      <td>NaN</td>\n",
       "      <td>NaN</td>\n",
       "    </tr>\n",
       "    <tr>\n",
       "      <th>4</th>\n",
       "      <td>img_qh_train2_00004004439.jpg</td>\n",
       "      <td>Trousers</td>\n",
       "      <td>Solidcolor</td>\n",
       "      <td>Sneaker</td>\n",
       "      <td>right</td>\n",
       "      <td>NaN</td>\n",
       "      <td>1.0</td>\n",
       "      <td>NaN</td>\n",
       "      <td>NaN</td>\n",
       "      <td>NaN</td>\n",
       "      <td>NaN</td>\n",
       "      <td>NaN</td>\n",
       "      <td>NaN</td>\n",
       "      <td>NaN</td>\n",
       "      <td>NaN</td>\n",
       "      <td>NaN</td>\n",
       "    </tr>\n",
       "  </tbody>\n",
       "</table>\n",
       "</div>"
      ],
      "text/plain": [
       "                            name lowerLength lowerStyles shoesStyles towards  \\\n",
       "0  img_qh_train2_00000006345.jpg       Skirt  Solidcolor     Sandals   right   \n",
       "1  img_qh_train2_00001008825.jpg    Trousers  Solidcolor     Sneaker    back   \n",
       "2  img_qh_train2_00002004117.jpg    Trousers  Solidcolor     Sneaker   right   \n",
       "3  img_qh_train2_00003002526.jpg    Trousers  Solidcolor     Sneaker   front   \n",
       "4  img_qh_train2_00004004439.jpg    Trousers  Solidcolor     Sneaker   right   \n",
       "\n",
       "   lowerBlack  lowerBrown  lowerBlue  lowerGreen  lowerGray  lowerOrange  \\\n",
       "0         1.0         NaN        NaN         NaN        NaN          NaN   \n",
       "1         1.0         NaN        NaN         NaN        NaN          NaN   \n",
       "2         1.0         NaN        NaN         NaN        NaN          NaN   \n",
       "3         NaN         NaN        1.0         NaN        NaN          NaN   \n",
       "4         NaN         1.0        NaN         NaN        NaN          NaN   \n",
       "\n",
       "   lowerPink  lowerPurple  lowerRed  lowerWhite  lowerYellow  \n",
       "0        NaN          NaN       NaN         NaN          NaN  \n",
       "1        NaN          NaN       NaN         NaN          NaN  \n",
       "2        NaN          NaN       NaN         NaN          NaN  \n",
       "3        NaN          NaN       NaN         NaN          NaN  \n",
       "4        NaN          NaN       NaN         NaN          NaN  "
      ]
     },
     "execution_count": 7,
     "metadata": {},
     "output_type": "execute_result"
    }
   ],
   "source": [
    "train.head()"
   ]
  },
  {
   "cell_type": "code",
   "execution_count": 8,
   "id": "9229a125",
   "metadata": {},
   "outputs": [
    {
     "data": {
      "text/plain": [
       "Index(['name', 'lowerLength', 'lowerStyles', 'shoesStyles', 'towards',\n",
       "       'lowerBlack', 'lowerBrown', 'lowerBlue', 'lowerGreen', 'lowerGray',\n",
       "       'lowerOrange', 'lowerPink', 'lowerPurple', 'lowerRed', 'lowerWhite',\n",
       "       'lowerYellow'],\n",
       "      dtype='object')"
      ]
     },
     "execution_count": 8,
     "metadata": {},
     "output_type": "execute_result"
    }
   ],
   "source": [
    "train.columns"
   ]
  },
  {
   "cell_type": "code",
   "execution_count": 9,
   "id": "f8829b7c",
   "metadata": {
    "gradient": {
     "editing": false,
     "id": "6a1246c3",
     "kernelId": ""
    }
   },
   "outputs": [
    {
     "name": "stdout",
     "output_type": "stream",
     "text": [
      "lowerLength: \n",
      "Shorts        62\n",
      "Skirt        936\n",
      "Trousers    6002\n",
      "Name: lowerLength, dtype: int64\n"
     ]
    },
    {
     "data": {
      "text/plain": [
       "<AxesSubplot:>"
      ]
     },
     "execution_count": 9,
     "metadata": {},
     "output_type": "execute_result"
    },
    {
     "data": {
      "image/png": "[encoded data removed]",
      "text/plain": [
       "<Figure size 432x288 with 1 Axes>"
      ]
     },
     "metadata": {
      "needs_background": "light"
     },
     "output_type": "display_data"
    }
   ],
   "source": [
    "print('lowerLength: ')\n",
    "print(train['lowerLength'].value_counts(ascending=True))\n",
    "train['lowerLength'].value_counts(ascending=True).plot.bar()"
   ]
  },
  {
   "cell_type": "code",
   "execution_count": 10,
   "id": "666d9d28",
   "metadata": {
    "gradient": {
     "editing": false,
     "id": "93c4f30c",
     "kernelId": ""
    }
   },
   "outputs": [
    {
     "name": "stdout",
     "output_type": "stream",
     "text": [
      "lowerStyles: \n",
      "lattice         104\n",
      "multicolour     300\n",
      "Solidcolor     6596\n",
      "Name: lowerStyles, dtype: int64\n"
     ]
    },
    {
     "data": {
      "text/plain": [
       "<AxesSubplot:>"
      ]
     },
     "execution_count": 10,
     "metadata": {},
     "output_type": "execute_result"
    },
    {
     "data": {
      "image/png": "[encoded data removed]",
      "text/plain": [
       "<Figure size 432x288 with 1 Axes>"
      ]
     },
     "metadata": {
      "needs_background": "light"
     },
     "output_type": "display_data"
    }
   ],
   "source": [
    "print('lowerStyles: ')\n",
    "print(train['lowerStyles'].value_counts(ascending=True))\n",
    "train['lowerStyles'].value_counts(ascending=True).plot.bar()"
   ]
  },
  {
   "cell_type": "code",
   "execution_count": 11,
   "id": "63f6cca2",
   "metadata": {
    "gradient": {
     "editing": false,
     "id": "0d01f877",
     "kernelId": ""
    }
   },
   "outputs": [
    {
     "name": "stdout",
     "output_type": "stream",
     "text": [
      "shoesStyles: \n",
      "else              42\n",
      "Sandals          473\n",
      "LeatherShoes     845\n",
      "Sneaker         5640\n",
      "Name: shoesStyles, dtype: int64\n"
     ]
    },
    {
     "data": {
      "text/plain": [
       "<AxesSubplot:>"
      ]
     },
     "execution_count": 11,
     "metadata": {},
     "output_type": "execute_result"
    },
    {
     "data": {
      "image/png": "[encoded data removed]",
      "text/plain": [
       "<Figure size 432x288 with 1 Axes>"
      ]
     },
     "metadata": {
      "needs_background": "light"
     },
     "output_type": "display_data"
    }
   ],
   "source": [
    "print('shoesStyles: ')\n",
    "print(train['shoesStyles'].value_counts(ascending=True))\n",
    "train['shoesStyles'].value_counts(ascending=True).plot.bar()"
   ]
  },
  {
   "cell_type": "code",
   "execution_count": 12,
   "id": "dde1a463",
   "metadata": {},
   "outputs": [
    {
     "name": "stdout",
     "output_type": "stream",
     "text": [
      "towards: \n",
      "right    1244\n",
      "left     1585\n",
      "front    2031\n",
      "back     2140\n",
      "Name: towards, dtype: int64\n"
     ]
    },
    {
     "data": {
      "text/plain": [
       "<AxesSubplot:>"
      ]
     },
     "execution_count": 12,
     "metadata": {},
     "output_type": "execute_result"
    },
    {
     "data": {
      "image/png": "[encoded data removed]",
      "text/plain": [
       "<Figure size 432x288 with 1 Axes>"
      ]
     },
     "metadata": {
      "needs_background": "light"
     },
     "output_type": "display_data"
    }
   ],
   "source": [
    "print('towards: ')\n",
    "print(train['towards'].value_counts(ascending=True))\n",
    "train['towards'].value_counts(ascending=True).plot.bar()"
   ]
  },
  {
   "cell_type": "code",
   "execution_count": 16,
   "id": "f3501531",
   "metadata": {
    "gradient": {
     "editing": false,
     "id": "85ed05d2",
     "kernelId": ""
    }
   },
   "outputs": [
    {
     "name": "stdout",
     "output_type": "stream",
     "text": [
      "lowerOrange      10\n",
      "lowerPurple      26\n",
      "lowerGreen       34\n",
      "lowerYellow      81\n",
      "lowerPink        82\n",
      "lowerRed         99\n",
      "lowerBrown      172\n",
      "lowerWhite      627\n",
      "lowerBlue       896\n",
      "lowerGray      1086\n",
      "lowerBlack     4320\n",
      "dtype: int64\n"
     ]
    },
    {
     "data": {
      "text/plain": [
       "<AxesSubplot:>"
      ]
     },
     "execution_count": 16,
     "metadata": {},
     "output_type": "execute_result"
    },
    {
     "data": {
      "image/png": "[encoded data removed]",
      "text/plain": [
       "<Figure size 432x288 with 1 Axes>"
      ]
     },
     "metadata": {
      "needs_background": "light"
     },
     "output_type": "display_data"
    }
   ],
   "source": [
    "new_df = train.copy(deep=True)\n",
    "new_df.drop(['name','lowerLength','lowerStyles', 'shoesStyles', 'towards'], axis=1, inplace=True)\n",
    "colorsCount = new_df.count().sort_values()\n",
    "print(colorsCount)\n",
    "colorsCount.plot.bar()"
   ]
  },
  {
   "cell_type": "code",
   "execution_count": 19,
   "id": "81c5a6db",
   "metadata": {
    "gradient": {
     "editing": false,
     "id": "618ddf38",
     "kernelId": ""
    }
   },
   "outputs": [
    {
     "data": {
      "text/html": [
       "<div>\n",
       "<style scoped>\n",
       "    .dataframe tbody tr th:only-of-type {\n",
       "        vertical-align: middle;\n",
       "    }\n",
       "\n",
       "    .dataframe tbody tr th {\n",
       "        vertical-align: top;\n",
       "    }\n",
       "\n",
       "    .dataframe thead th {\n",
       "        text-align: right;\n",
       "    }\n",
       "</style>\n",
       "<table border=\"1\" class=\"dataframe\">\n",
       "  <thead>\n",
       "    <tr style=\"text-align: right;\">\n",
       "      <th></th>\n",
       "      <th>lowerBlack</th>\n",
       "      <th>lowerBrown</th>\n",
       "      <th>lowerBlue</th>\n",
       "      <th>lowerGreen</th>\n",
       "      <th>lowerGray</th>\n",
       "      <th>lowerOrange</th>\n",
       "      <th>lowerPink</th>\n",
       "      <th>lowerPurple</th>\n",
       "      <th>lowerRed</th>\n",
       "      <th>lowerWhite</th>\n",
       "      <th>lowerYellow</th>\n",
       "    </tr>\n",
       "    <tr>\n",
       "      <th>lowerStyles</th>\n",
       "      <th></th>\n",
       "      <th></th>\n",
       "      <th></th>\n",
       "      <th></th>\n",
       "      <th></th>\n",
       "      <th></th>\n",
       "      <th></th>\n",
       "      <th></th>\n",
       "      <th></th>\n",
       "      <th></th>\n",
       "      <th></th>\n",
       "    </tr>\n",
       "  </thead>\n",
       "  <tbody>\n",
       "    <tr>\n",
       "      <th>Solidcolor</th>\n",
       "      <td>4029</td>\n",
       "      <td>139</td>\n",
       "      <td>865</td>\n",
       "      <td>25</td>\n",
       "      <td>978</td>\n",
       "      <td>9</td>\n",
       "      <td>74</td>\n",
       "      <td>18</td>\n",
       "      <td>62</td>\n",
       "      <td>327</td>\n",
       "      <td>70</td>\n",
       "    </tr>\n",
       "    <tr>\n",
       "      <th>lattice</th>\n",
       "      <td>86</td>\n",
       "      <td>3</td>\n",
       "      <td>2</td>\n",
       "      <td>1</td>\n",
       "      <td>23</td>\n",
       "      <td>0</td>\n",
       "      <td>3</td>\n",
       "      <td>1</td>\n",
       "      <td>6</td>\n",
       "      <td>87</td>\n",
       "      <td>1</td>\n",
       "    </tr>\n",
       "    <tr>\n",
       "      <th>multicolour</th>\n",
       "      <td>205</td>\n",
       "      <td>30</td>\n",
       "      <td>29</td>\n",
       "      <td>8</td>\n",
       "      <td>85</td>\n",
       "      <td>1</td>\n",
       "      <td>5</td>\n",
       "      <td>7</td>\n",
       "      <td>31</td>\n",
       "      <td>213</td>\n",
       "      <td>10</td>\n",
       "    </tr>\n",
       "  </tbody>\n",
       "</table>\n",
       "</div>"
      ],
      "text/plain": [
       "             lowerBlack  lowerBrown  lowerBlue  lowerGreen  lowerGray  \\\n",
       "lowerStyles                                                             \n",
       "Solidcolor         4029         139        865          25        978   \n",
       "lattice              86           3          2           1         23   \n",
       "multicolour         205          30         29           8         85   \n",
       "\n",
       "             lowerOrange  lowerPink  lowerPurple  lowerRed  lowerWhite  \\\n",
       "lowerStyles                                                              \n",
       "Solidcolor             9         74           18        62         327   \n",
       "lattice                0          3            1         6          87   \n",
       "multicolour            1          5            7        31         213   \n",
       "\n",
       "             lowerYellow  \n",
       "lowerStyles               \n",
       "Solidcolor            70  \n",
       "lattice                1  \n",
       "multicolour           10  "
      ]
     },
     "execution_count": 19,
     "metadata": {},
     "output_type": "execute_result"
    }
   ],
   "source": [
    "lowerStyles_group = train.groupby('lowerStyles').count()\n",
    "lowerStyles_group.drop(['name','lowerLength', 'shoesStyles', 'towards'], axis=1, inplace=True)\n",
    "lowerStyles_group.head()"
   ]
  },
  {
   "cell_type": "code",
   "execution_count": 20,
   "id": "893118d0",
   "metadata": {
    "gradient": {
     "editing": false,
     "id": "7757944a",
     "kernelId": ""
    }
   },
   "outputs": [
    {
     "name": "stdout",
     "output_type": "stream",
     "text": [
      "lowerOrange       9\n",
      "lowerPurple      18\n",
      "lowerGreen       25\n",
      "lowerRed         62\n",
      "lowerYellow      70\n",
      "lowerPink        74\n",
      "lowerBrown      139\n",
      "lowerWhite      327\n",
      "lowerBlue       865\n",
      "lowerGray       978\n",
      "lowerBlack     4029\n",
      "Name: Solidcolor, dtype: int64\n"
     ]
    },
    {
     "data": {
      "text/plain": [
       "<AxesSubplot:>"
      ]
     },
     "execution_count": 20,
     "metadata": {},
     "output_type": "execute_result"
    },
    {
     "data": {
      "image/png": "[encoded data removed]",
      "text/plain": [
       "<Figure size 432x288 with 1 Axes>"
      ]
     },
     "metadata": {
      "needs_background": "light"
     },
     "output_type": "display_data"
    }
   ],
   "source": [
    "print(lowerStyles_group.loc['Solidcolor'].sort_values())\n",
    "lowerStyles_group.loc['Solidcolor'].sort_values().plot.bar()"
   ]
  },
  {
   "cell_type": "code",
   "execution_count": 21,
   "id": "f146faa4",
   "metadata": {
    "gradient": {
     "editing": false,
     "id": "1764e2a6",
     "kernelId": ""
    }
   },
   "outputs": [
    {
     "name": "stdout",
     "output_type": "stream",
     "text": [
      "lowerOrange      1\n",
      "lowerPink        5\n",
      "lowerPurple      7\n",
      "lowerGreen       8\n",
      "lowerYellow     10\n",
      "lowerBlue       29\n",
      "lowerBrown      30\n",
      "lowerRed        31\n",
      "lowerGray       85\n",
      "lowerBlack     205\n",
      "lowerWhite     213\n",
      "Name: multicolour, dtype: int64\n"
     ]
    },
    {
     "data": {
      "text/plain": [
       "<AxesSubplot:>"
      ]
     },
     "execution_count": 21,
     "metadata": {},
     "output_type": "execute_result"
    },
    {
     "data": {
      "image/png": "[encoded data removed]",
      "text/plain": [
       "<Figure size 432x288 with 1 Axes>"
      ]
     },
     "metadata": {
      "needs_background": "light"
     },
     "output_type": "display_data"
    }
   ],
   "source": [
    "print(lowerStyles_group.loc['multicolour'].sort_values())\n",
    "lowerStyles_group.loc['multicolour'].sort_values().plot.bar()"
   ]
  },
  {
   "cell_type": "code",
   "execution_count": 22,
   "id": "d9aa1da5",
   "metadata": {
    "gradient": {
     "editing": false,
     "id": "3d9305f8",
     "kernelId": ""
    }
   },
   "outputs": [
    {
     "name": "stdout",
     "output_type": "stream",
     "text": [
      "lowerOrange     0\n",
      "lowerGreen      1\n",
      "lowerPurple     1\n",
      "lowerYellow     1\n",
      "lowerBlue       2\n",
      "lowerBrown      3\n",
      "lowerPink       3\n",
      "lowerRed        6\n",
      "lowerGray      23\n",
      "lowerBlack     86\n",
      "lowerWhite     87\n",
      "Name: lattice, dtype: int64\n"
     ]
    },
    {
     "data": {
      "text/plain": [
       "<AxesSubplot:>"
      ]
     },
     "execution_count": 22,
     "metadata": {},
     "output_type": "execute_result"
    },
    {
     "data": {
      "image/png": "[encoded data removed]",
      "text/plain": [
       "<Figure size 432x288 with 1 Axes>"
      ]
     },
     "metadata": {
      "needs_background": "light"
     },
     "output_type": "display_data"
    }
   ],
   "source": [
    "print(lowerStyles_group.loc['lattice'].sort_values())\n",
    "lowerStyles_group.loc['lattice'].sort_values().plot.bar()"
   ]
  },
  {
   "cell_type": "code",
   "execution_count": 25,
   "id": "471dda3a",
   "metadata": {
    "gradient": {
     "editing": false,
     "id": "72058c54",
     "kernelId": ""
    }
   },
   "outputs": [
    {
     "data": {
      "text/html": [
       "<div>\n",
       "<style scoped>\n",
       "    .dataframe tbody tr th:only-of-type {\n",
       "        vertical-align: middle;\n",
       "    }\n",
       "\n",
       "    .dataframe tbody tr th {\n",
       "        vertical-align: top;\n",
       "    }\n",
       "\n",
       "    .dataframe thead th {\n",
       "        text-align: right;\n",
       "    }\n",
       "</style>\n",
       "<table border=\"1\" class=\"dataframe\">\n",
       "  <thead>\n",
       "    <tr style=\"text-align: right;\">\n",
       "      <th></th>\n",
       "      <th>name</th>\n",
       "      <th>lowerStyles</th>\n",
       "      <th>color_count</th>\n",
       "    </tr>\n",
       "  </thead>\n",
       "  <tbody>\n",
       "    <tr>\n",
       "      <th>0</th>\n",
       "      <td>img_qh_train2_00000006345.jpg</td>\n",
       "      <td>Solidcolor</td>\n",
       "      <td>1</td>\n",
       "    </tr>\n",
       "    <tr>\n",
       "      <th>1</th>\n",
       "      <td>img_qh_train2_00001008825.jpg</td>\n",
       "      <td>Solidcolor</td>\n",
       "      <td>1</td>\n",
       "    </tr>\n",
       "    <tr>\n",
       "      <th>2</th>\n",
       "      <td>img_qh_train2_00002004117.jpg</td>\n",
       "      <td>Solidcolor</td>\n",
       "      <td>1</td>\n",
       "    </tr>\n",
       "    <tr>\n",
       "      <th>3</th>\n",
       "      <td>img_qh_train2_00003002526.jpg</td>\n",
       "      <td>Solidcolor</td>\n",
       "      <td>1</td>\n",
       "    </tr>\n",
       "    <tr>\n",
       "      <th>4</th>\n",
       "      <td>img_qh_train2_00004004439.jpg</td>\n",
       "      <td>Solidcolor</td>\n",
       "      <td>1</td>\n",
       "    </tr>\n",
       "  </tbody>\n",
       "</table>\n",
       "</div>"
      ],
      "text/plain": [
       "                            name lowerStyles  color_count\n",
       "0  img_qh_train2_00000006345.jpg  Solidcolor            1\n",
       "1  img_qh_train2_00001008825.jpg  Solidcolor            1\n",
       "2  img_qh_train2_00002004117.jpg  Solidcolor            1\n",
       "3  img_qh_train2_00003002526.jpg  Solidcolor            1\n",
       "4  img_qh_train2_00004004439.jpg  Solidcolor            1"
      ]
     },
     "execution_count": 25,
     "metadata": {},
     "output_type": "execute_result"
    }
   ],
   "source": [
    "color_count_df = train.copy(deep=True)\n",
    "colors = ['lowerBlack', 'lowerBrown', 'lowerBlue', 'lowerGreen', 'lowerGray',\n",
    "       'lowerOrange', 'lowerPink', 'lowerPurple', 'lowerRed', 'lowerWhite',\n",
    "       'lowerYellow']\n",
    "def apply_color_count(series):\n",
    "    count = 0\n",
    "    for i in colors:\n",
    "        if series[i] > 0:\n",
    "            count = count + 1\n",
    "    return count\n",
    "\n",
    "color_count_df[\"color_count\"] = color_count_df.apply(apply_color_count, axis=1)\n",
    "\n",
    "color_count_df = color_count_df.drop(['lowerLength', 'shoesStyles', 'towards',\n",
    "       'lowerBlack', 'lowerBrown', 'lowerBlue', 'lowerGreen', 'lowerGray',\n",
    "       'lowerOrange', 'lowerPink', 'lowerPurple', 'lowerRed', 'lowerWhite',\n",
    "       'lowerYellow'], axis=1)\n",
    "\n",
    "color_count_df.head()"
   ]
  },
  {
   "cell_type": "code",
   "execution_count": 26,
   "id": "8656ae67",
   "metadata": {
    "gradient": {
     "editing": false,
     "id": "09afe0d6",
     "kernelId": ""
    }
   },
   "outputs": [],
   "source": [
    "for index, row in color_count_df.iterrows():\n",
    "    if row['lowerStyles'] == 'Solidcolor' and row['color_count'] > 1:\n",
    "        print('[error label Solidcolor] name: ', row['name'])\n",
    "    if row['lowerStyles'] == 'lattice' and row['color_count'] < 2:\n",
    "        print('[error label lattice] name: ', row['name'])\n",
    "    if row['lowerStyles'] == 'multicolour' and row['color_count'] < 2:\n",
    "        print('[error label multicolour] name: ', row['name'])"
   ]
  },
  {
   "cell_type": "code",
   "execution_count": 27,
   "id": "1aace12f",
   "metadata": {
    "gradient": {
     "editing": false,
     "id": "6d64d288",
     "kernelId": ""
    }
   },
   "outputs": [
    {
     "data": {
      "text/html": [
       "<div>\n",
       "<style scoped>\n",
       "    .dataframe tbody tr th:only-of-type {\n",
       "        vertical-align: middle;\n",
       "    }\n",
       "\n",
       "    .dataframe tbody tr th {\n",
       "        vertical-align: top;\n",
       "    }\n",
       "\n",
       "    .dataframe thead th {\n",
       "        text-align: right;\n",
       "    }\n",
       "</style>\n",
       "<table border=\"1\" class=\"dataframe\">\n",
       "  <thead>\n",
       "    <tr style=\"text-align: right;\">\n",
       "      <th></th>\n",
       "      <th>lowerStyles</th>\n",
       "      <th>one</th>\n",
       "      <th>two</th>\n",
       "      <th>three</th>\n",
       "    </tr>\n",
       "  </thead>\n",
       "  <tbody>\n",
       "    <tr>\n",
       "      <th>0</th>\n",
       "      <td>Solidcolor</td>\n",
       "      <td>1</td>\n",
       "      <td>0</td>\n",
       "      <td>0</td>\n",
       "    </tr>\n",
       "    <tr>\n",
       "      <th>1</th>\n",
       "      <td>Solidcolor</td>\n",
       "      <td>1</td>\n",
       "      <td>0</td>\n",
       "      <td>0</td>\n",
       "    </tr>\n",
       "    <tr>\n",
       "      <th>2</th>\n",
       "      <td>Solidcolor</td>\n",
       "      <td>1</td>\n",
       "      <td>0</td>\n",
       "      <td>0</td>\n",
       "    </tr>\n",
       "    <tr>\n",
       "      <th>3</th>\n",
       "      <td>Solidcolor</td>\n",
       "      <td>1</td>\n",
       "      <td>0</td>\n",
       "      <td>0</td>\n",
       "    </tr>\n",
       "    <tr>\n",
       "      <th>4</th>\n",
       "      <td>Solidcolor</td>\n",
       "      <td>1</td>\n",
       "      <td>0</td>\n",
       "      <td>0</td>\n",
       "    </tr>\n",
       "  </tbody>\n",
       "</table>\n",
       "</div>"
      ],
      "text/plain": [
       "  lowerStyles  one  two  three\n",
       "0  Solidcolor    1    0      0\n",
       "1  Solidcolor    1    0      0\n",
       "2  Solidcolor    1    0      0\n",
       "3  Solidcolor    1    0      0\n",
       "4  Solidcolor    1    0      0"
      ]
     },
     "execution_count": 27,
     "metadata": {},
     "output_type": "execute_result"
    }
   ],
   "source": [
    "color_frequency_df = color_count_df.copy(deep=True)\n",
    "def apply_color_frequency_item(series, frequency):\n",
    "    if series['color_count'] == frequency:\n",
    "        return 1\n",
    "    else:\n",
    "        return 0\n",
    "\n",
    "color_frequency_df[\"one\"] = color_frequency_df.apply(apply_color_frequency_item, args=(1,), axis=1)\n",
    "color_frequency_df[\"two\"] = color_frequency_df.apply(apply_color_frequency_item, args=(2,), axis=1)\n",
    "color_frequency_df[\"three\"] = color_frequency_df.apply(apply_color_frequency_item, args=(3,), axis=1)\n",
    "\n",
    "color_frequency_df = color_frequency_df.drop(['name', 'color_count'], axis=1)\n",
    "color_frequency_df.head()"
   ]
  },
  {
   "cell_type": "code",
   "execution_count": 29,
   "id": "61254318",
   "metadata": {
    "gradient": {
     "editing": false,
     "id": "4a80a63d",
     "kernelId": ""
    }
   },
   "outputs": [
    {
     "data": {
      "text/html": [
       "<div>\n",
       "<style scoped>\n",
       "    .dataframe tbody tr th:only-of-type {\n",
       "        vertical-align: middle;\n",
       "    }\n",
       "\n",
       "    .dataframe tbody tr th {\n",
       "        vertical-align: top;\n",
       "    }\n",
       "\n",
       "    .dataframe thead th {\n",
       "        text-align: right;\n",
       "    }\n",
       "</style>\n",
       "<table border=\"1\" class=\"dataframe\">\n",
       "  <thead>\n",
       "    <tr style=\"text-align: right;\">\n",
       "      <th></th>\n",
       "      <th>one</th>\n",
       "      <th>two</th>\n",
       "      <th>three</th>\n",
       "    </tr>\n",
       "    <tr>\n",
       "      <th>lowerStyles</th>\n",
       "      <th></th>\n",
       "      <th></th>\n",
       "      <th></th>\n",
       "    </tr>\n",
       "  </thead>\n",
       "  <tbody>\n",
       "    <tr>\n",
       "      <th>Solidcolor</th>\n",
       "      <td>6596</td>\n",
       "      <td>0</td>\n",
       "      <td>0</td>\n",
       "    </tr>\n",
       "    <tr>\n",
       "      <th>lattice</th>\n",
       "      <td>0</td>\n",
       "      <td>99</td>\n",
       "      <td>5</td>\n",
       "    </tr>\n",
       "    <tr>\n",
       "      <th>multicolour</th>\n",
       "      <td>0</td>\n",
       "      <td>276</td>\n",
       "      <td>24</td>\n",
       "    </tr>\n",
       "  </tbody>\n",
       "</table>\n",
       "</div>"
      ],
      "text/plain": [
       "              one  two  three\n",
       "lowerStyles                  \n",
       "Solidcolor   6596    0      0\n",
       "lattice         0   99      5\n",
       "multicolour     0  276     24"
      ]
     },
     "execution_count": 29,
     "metadata": {},
     "output_type": "execute_result"
    }
   ],
   "source": [
    "color_frequency_df = color_frequency_df.groupby('lowerStyles').sum()\n",
    "color_frequency_df.head()"
   ]
  },
  {
   "cell_type": "code",
   "execution_count": 30,
   "id": "5ed35a74",
   "metadata": {
    "gradient": {
     "editing": false,
     "id": "3cb5eb85",
     "kernelId": ""
    }
   },
   "outputs": [
    {
     "data": {
      "text/plain": [
       "<AxesSubplot:xlabel='lowerStyles'>"
      ]
     },
     "execution_count": 30,
     "metadata": {},
     "output_type": "execute_result"
    },
    {
     "data": {
      "image/png": "[encoded data removed]",
      "text/plain": [
       "<Figure size 432x288 with 1 Axes>"
      ]
     },
     "metadata": {
      "needs_background": "light"
     },
     "output_type": "display_data"
    }
   ],
   "source": [
    "color_frequency_df.plot.bar()"
   ]
  }
 ],
 "metadata": {
  "kernelspec": {
   "display_name": "Python 3 (ipykernel)",
   "language": "python",
   "name": "python3"
  },
  "language_info": {
   "codemirror_mode": {
    "name": "ipython",
    "version": 3
   },
   "file_extension": ".py",
   "mimetype": "text/x-python",
   "name": "python",
   "nbconvert_exporter": "python",
   "pygments_lexer": "ipython3",
   "version": "3.8.12"
  }
 },
 "nbformat": 4,
 "nbformat_minor": 5
}
