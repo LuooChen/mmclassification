{
 "cells": [
  {
   "cell_type": "code",
   "execution_count": 1,
   "id": "23a7420e",
   "metadata": {
    "collapsed": false,
    "gradient": {
     "editing": false,
     "id": "d27ec776",
     "kernelId": "",
     "source_hidden": false
    },
    "jupyter": {
     "outputs_hidden": false
    }
   },
   "outputs": [
    {
     "name": "stdout",
     "output_type": "stream",
     "text": [
      "Looking in indexes: https://pypi.org/simple, https://pypi.ngc.nvidia.com\n",
      "Requirement already satisfied: pandas in /opt/conda/lib/python3.8/site-packages (1.4.1)\n",
      "Requirement already satisfied: pytz>=2020.1 in /opt/conda/lib/python3.8/site-packages (from pandas) (2021.3)\n",
      "Requirement already satisfied: python-dateutil>=2.8.1 in /opt/conda/lib/python3.8/site-packages (from pandas) (2.8.2)\n",
      "Requirement already satisfied: numpy>=1.18.5 in /opt/conda/lib/python3.8/site-packages (from pandas) (1.21.2)\n",
      "Requirement already satisfied: six>=1.5 in /opt/conda/lib/python3.8/site-packages (from python-dateutil>=2.8.1->pandas) (1.16.0)\n",
      "\u001b[33mWARNING: Running pip as the 'root' user can result in broken permissions and conflicting behaviour with the system package manager. It is recommended to use a virtual environment instead: https://pip.pypa.io/warnings/venv\u001b[0m\n"
     ]
    }
   ],
   "source": [
    "!pip install pandas\n",
    "# !pip install basic-image-eda\n",
    "# !pip install scikit-image\n",
    "# !pip install matplotlib\n",
    "import pandas as pd"
   ]
  },
  {
   "cell_type": "code",
   "execution_count": 2,
   "id": "ee573759",
   "metadata": {
    "collapsed": false,
    "gradient": {
     "editing": false,
     "id": "e978f720",
     "kernelId": "",
     "source_hidden": false
    },
    "jupyter": {
     "outputs_hidden": false
    }
   },
   "outputs": [],
   "source": [
    "train = pd.read_csv('data/train22A/train2_new.csv') # reading the csv file"
   ]
  },
  {
   "cell_type": "code",
   "execution_count": 3,
   "id": "fe590be7",
   "metadata": {
    "gradient": {
     "editing": false,
     "id": "794d8e40",
     "kernelId": ""
    }
   },
   "outputs": [
    {
     "data": {
      "text/html": [
       "<div>\n",
       "<style scoped>\n",
       "    .dataframe tbody tr th:only-of-type {\n",
       "        vertical-align: middle;\n",
       "    }\n",
       "\n",
       "    .dataframe tbody tr th {\n",
       "        vertical-align: top;\n",
       "    }\n",
       "\n",
       "    .dataframe thead th {\n",
       "        text-align: right;\n",
       "    }\n",
       "</style>\n",
       "<table border=\"1\" class=\"dataframe\">\n",
       "  <thead>\n",
       "    <tr style=\"text-align: right;\">\n",
       "      <th></th>\n",
       "      <th>name</th>\n",
       "      <th>upperLength</th>\n",
       "      <th>clothesStyles</th>\n",
       "      <th>hairStyles</th>\n",
       "      <th>lowerLength</th>\n",
       "      <th>lowerStyles</th>\n",
       "      <th>shoesStyles</th>\n",
       "      <th>towards</th>\n",
       "      <th>upperBlack</th>\n",
       "      <th>upperBrown</th>\n",
       "      <th>...</th>\n",
       "      <th>lowerBrown</th>\n",
       "      <th>lowerBlue</th>\n",
       "      <th>lowerGreen</th>\n",
       "      <th>lowerGray</th>\n",
       "      <th>lowerOrange</th>\n",
       "      <th>lowerPink</th>\n",
       "      <th>lowerPurple</th>\n",
       "      <th>lowerRed</th>\n",
       "      <th>lowerWhite</th>\n",
       "      <th>lowerYellow</th>\n",
       "    </tr>\n",
       "  </thead>\n",
       "  <tbody>\n",
       "    <tr>\n",
       "      <th>0</th>\n",
       "      <td>img_qh_train2_00000006345.jpg</td>\n",
       "      <td>LongSleeve</td>\n",
       "      <td>Solidcolor</td>\n",
       "      <td>Short</td>\n",
       "      <td>Skirt</td>\n",
       "      <td>Solidcolor</td>\n",
       "      <td>Sandals</td>\n",
       "      <td>right</td>\n",
       "      <td>NaN</td>\n",
       "      <td>NaN</td>\n",
       "      <td>...</td>\n",
       "      <td>NaN</td>\n",
       "      <td>NaN</td>\n",
       "      <td>NaN</td>\n",
       "      <td>NaN</td>\n",
       "      <td>NaN</td>\n",
       "      <td>NaN</td>\n",
       "      <td>NaN</td>\n",
       "      <td>NaN</td>\n",
       "      <td>NaN</td>\n",
       "      <td>NaN</td>\n",
       "    </tr>\n",
       "    <tr>\n",
       "      <th>1</th>\n",
       "      <td>img_qh_train2_00001008825.jpg</td>\n",
       "      <td>LongSleeve</td>\n",
       "      <td>multicolour</td>\n",
       "      <td>Short</td>\n",
       "      <td>Trousers</td>\n",
       "      <td>Solidcolor</td>\n",
       "      <td>Sneaker</td>\n",
       "      <td>back</td>\n",
       "      <td>0.4</td>\n",
       "      <td>NaN</td>\n",
       "      <td>...</td>\n",
       "      <td>NaN</td>\n",
       "      <td>NaN</td>\n",
       "      <td>NaN</td>\n",
       "      <td>NaN</td>\n",
       "      <td>NaN</td>\n",
       "      <td>NaN</td>\n",
       "      <td>NaN</td>\n",
       "      <td>NaN</td>\n",
       "      <td>NaN</td>\n",
       "      <td>NaN</td>\n",
       "    </tr>\n",
       "    <tr>\n",
       "      <th>2</th>\n",
       "      <td>img_qh_train2_00002004117.jpg</td>\n",
       "      <td>LongSleeve</td>\n",
       "      <td>multicolour</td>\n",
       "      <td>Long</td>\n",
       "      <td>Trousers</td>\n",
       "      <td>Solidcolor</td>\n",
       "      <td>Sneaker</td>\n",
       "      <td>right</td>\n",
       "      <td>NaN</td>\n",
       "      <td>NaN</td>\n",
       "      <td>...</td>\n",
       "      <td>NaN</td>\n",
       "      <td>NaN</td>\n",
       "      <td>NaN</td>\n",
       "      <td>NaN</td>\n",
       "      <td>NaN</td>\n",
       "      <td>NaN</td>\n",
       "      <td>NaN</td>\n",
       "      <td>NaN</td>\n",
       "      <td>NaN</td>\n",
       "      <td>NaN</td>\n",
       "    </tr>\n",
       "    <tr>\n",
       "      <th>3</th>\n",
       "      <td>img_qh_train2_00003002526.jpg</td>\n",
       "      <td>LongSleeve</td>\n",
       "      <td>multicolour</td>\n",
       "      <td>Short</td>\n",
       "      <td>Trousers</td>\n",
       "      <td>Solidcolor</td>\n",
       "      <td>Sneaker</td>\n",
       "      <td>front</td>\n",
       "      <td>0.8</td>\n",
       "      <td>NaN</td>\n",
       "      <td>...</td>\n",
       "      <td>NaN</td>\n",
       "      <td>1.0</td>\n",
       "      <td>NaN</td>\n",
       "      <td>NaN</td>\n",
       "      <td>NaN</td>\n",
       "      <td>NaN</td>\n",
       "      <td>NaN</td>\n",
       "      <td>NaN</td>\n",
       "      <td>NaN</td>\n",
       "      <td>NaN</td>\n",
       "    </tr>\n",
       "    <tr>\n",
       "      <th>4</th>\n",
       "      <td>img_qh_train2_00004004439.jpg</td>\n",
       "      <td>LongSleeve</td>\n",
       "      <td>Solidcolor</td>\n",
       "      <td>Long</td>\n",
       "      <td>Trousers</td>\n",
       "      <td>Solidcolor</td>\n",
       "      <td>Sneaker</td>\n",
       "      <td>right</td>\n",
       "      <td>NaN</td>\n",
       "      <td>NaN</td>\n",
       "      <td>...</td>\n",
       "      <td>1.0</td>\n",
       "      <td>NaN</td>\n",
       "      <td>NaN</td>\n",
       "      <td>NaN</td>\n",
       "      <td>NaN</td>\n",
       "      <td>NaN</td>\n",
       "      <td>NaN</td>\n",
       "      <td>NaN</td>\n",
       "      <td>NaN</td>\n",
       "      <td>NaN</td>\n",
       "    </tr>\n",
       "  </tbody>\n",
       "</table>\n",
       "<p>5 rows × 30 columns</p>\n",
       "</div>"
      ],
      "text/plain": [
       "                            name upperLength clothesStyles hairStyles  \\\n",
       "0  img_qh_train2_00000006345.jpg  LongSleeve    Solidcolor      Short   \n",
       "1  img_qh_train2_00001008825.jpg  LongSleeve   multicolour      Short   \n",
       "2  img_qh_train2_00002004117.jpg  LongSleeve   multicolour       Long   \n",
       "3  img_qh_train2_00003002526.jpg  LongSleeve   multicolour      Short   \n",
       "4  img_qh_train2_00004004439.jpg  LongSleeve    Solidcolor       Long   \n",
       "\n",
       "  lowerLength lowerStyles shoesStyles towards  upperBlack  upperBrown  ...  \\\n",
       "0       Skirt  Solidcolor     Sandals   right         NaN         NaN  ...   \n",
       "1    Trousers  Solidcolor     Sneaker    back         0.4         NaN  ...   \n",
       "2    Trousers  Solidcolor     Sneaker   right         NaN         NaN  ...   \n",
       "3    Trousers  Solidcolor     Sneaker   front         0.8         NaN  ...   \n",
       "4    Trousers  Solidcolor     Sneaker   right         NaN         NaN  ...   \n",
       "\n",
       "   lowerBrown  lowerBlue  lowerGreen  lowerGray  lowerOrange  lowerPink  \\\n",
       "0         NaN        NaN         NaN        NaN          NaN        NaN   \n",
       "1         NaN        NaN         NaN        NaN          NaN        NaN   \n",
       "2         NaN        NaN         NaN        NaN          NaN        NaN   \n",
       "3         NaN        1.0         NaN        NaN          NaN        NaN   \n",
       "4         1.0        NaN         NaN        NaN          NaN        NaN   \n",
       "\n",
       "   lowerPurple  lowerRed  lowerWhite  lowerYellow  \n",
       "0          NaN       NaN         NaN          NaN  \n",
       "1          NaN       NaN         NaN          NaN  \n",
       "2          NaN       NaN         NaN          NaN  \n",
       "3          NaN       NaN         NaN          NaN  \n",
       "4          NaN       NaN         NaN          NaN  \n",
       "\n",
       "[5 rows x 30 columns]"
      ]
     },
     "execution_count": 3,
     "metadata": {},
     "output_type": "execute_result"
    }
   ],
   "source": [
    "train.head() # printing first five rows of the file"
   ]
  },
  {
   "cell_type": "code",
   "execution_count": 4,
   "id": "f4bfac21",
   "metadata": {
    "gradient": {
     "editing": false,
     "id": "24378f20",
     "kernelId": ""
    }
   },
   "outputs": [
    {
     "data": {
      "text/plain": [
       "Index(['name', 'upperLength', 'clothesStyles', 'hairStyles', 'lowerLength',\n",
       "       'lowerStyles', 'shoesStyles', 'towards', 'upperBlack', 'upperBrown',\n",
       "       'upperBlue', 'upperGreen', 'upperGray', 'upperOrange', 'upperPink',\n",
       "       'upperPurple', 'upperRed', 'upperWhite', 'upperYellow', 'lowerBlack',\n",
       "       'lowerBrown', 'lowerBlue', 'lowerGreen', 'lowerGray', 'lowerOrange',\n",
       "       'lowerPink', 'lowerPurple', 'lowerRed', 'lowerWhite', 'lowerYellow'],\n",
       "      dtype='object')"
      ]
     },
     "execution_count": 4,
     "metadata": {},
     "output_type": "execute_result"
    }
   ],
   "source": [
    "train.columns"
   ]
  },
  {
   "cell_type": "code",
   "execution_count": 5,
   "id": "f3706504",
   "metadata": {},
   "outputs": [],
   "source": [
    "train.drop(['lowerLength',\n",
    "       'lowerStyles', 'shoesStyles', 'towards', 'lowerBlack',\n",
    "       'lowerBrown', 'lowerBlue', 'lowerGreen', 'lowerGray', 'lowerOrange',\n",
    "       'lowerPink', 'lowerPurple', 'lowerRed', 'lowerWhite', 'lowerYellow'], axis=1, inplace=True)"
   ]
  },
  {
   "cell_type": "code",
   "execution_count": 19,
   "id": "2ec3f32c",
   "metadata": {},
   "outputs": [
    {
     "data": {
      "text/html": [
       "<div>\n",
       "<style scoped>\n",
       "    .dataframe tbody tr th:only-of-type {\n",
       "        vertical-align: middle;\n",
       "    }\n",
       "\n",
       "    .dataframe tbody tr th {\n",
       "        vertical-align: top;\n",
       "    }\n",
       "\n",
       "    .dataframe thead th {\n",
       "        text-align: right;\n",
       "    }\n",
       "</style>\n",
       "<table border=\"1\" class=\"dataframe\">\n",
       "  <thead>\n",
       "    <tr style=\"text-align: right;\">\n",
       "      <th></th>\n",
       "      <th>name</th>\n",
       "      <th>upperLength</th>\n",
       "      <th>clothesStyles</th>\n",
       "      <th>hairStyles</th>\n",
       "      <th>upperBlack</th>\n",
       "      <th>upperBrown</th>\n",
       "      <th>upperBlue</th>\n",
       "      <th>upperGreen</th>\n",
       "      <th>upperGray</th>\n",
       "      <th>upperOrange</th>\n",
       "      <th>upperPink</th>\n",
       "      <th>upperPurple</th>\n",
       "      <th>upperRed</th>\n",
       "      <th>upperWhite</th>\n",
       "      <th>upperYellow</th>\n",
       "    </tr>\n",
       "  </thead>\n",
       "  <tbody>\n",
       "    <tr>\n",
       "      <th>0</th>\n",
       "      <td>img_qh_train2_00000006345.jpg</td>\n",
       "      <td>LongSleeve</td>\n",
       "      <td>Solidcolor</td>\n",
       "      <td>Short</td>\n",
       "      <td>NaN</td>\n",
       "      <td>NaN</td>\n",
       "      <td>NaN</td>\n",
       "      <td>NaN</td>\n",
       "      <td>NaN</td>\n",
       "      <td>NaN</td>\n",
       "      <td>NaN</td>\n",
       "      <td>NaN</td>\n",
       "      <td>NaN</td>\n",
       "      <td>1.0</td>\n",
       "      <td>NaN</td>\n",
       "    </tr>\n",
       "    <tr>\n",
       "      <th>1</th>\n",
       "      <td>img_qh_train2_00001008825.jpg</td>\n",
       "      <td>LongSleeve</td>\n",
       "      <td>multicolour</td>\n",
       "      <td>Short</td>\n",
       "      <td>0.4</td>\n",
       "      <td>NaN</td>\n",
       "      <td>NaN</td>\n",
       "      <td>NaN</td>\n",
       "      <td>NaN</td>\n",
       "      <td>NaN</td>\n",
       "      <td>NaN</td>\n",
       "      <td>NaN</td>\n",
       "      <td>0.5</td>\n",
       "      <td>0.1</td>\n",
       "      <td>NaN</td>\n",
       "    </tr>\n",
       "    <tr>\n",
       "      <th>2</th>\n",
       "      <td>img_qh_train2_00002004117.jpg</td>\n",
       "      <td>LongSleeve</td>\n",
       "      <td>multicolour</td>\n",
       "      <td>Long</td>\n",
       "      <td>NaN</td>\n",
       "      <td>NaN</td>\n",
       "      <td>NaN</td>\n",
       "      <td>NaN</td>\n",
       "      <td>NaN</td>\n",
       "      <td>NaN</td>\n",
       "      <td>NaN</td>\n",
       "      <td>0.4</td>\n",
       "      <td>NaN</td>\n",
       "      <td>0.6</td>\n",
       "      <td>NaN</td>\n",
       "    </tr>\n",
       "    <tr>\n",
       "      <th>3</th>\n",
       "      <td>img_qh_train2_00003002526.jpg</td>\n",
       "      <td>LongSleeve</td>\n",
       "      <td>multicolour</td>\n",
       "      <td>Short</td>\n",
       "      <td>0.8</td>\n",
       "      <td>NaN</td>\n",
       "      <td>NaN</td>\n",
       "      <td>NaN</td>\n",
       "      <td>0.2</td>\n",
       "      <td>NaN</td>\n",
       "      <td>NaN</td>\n",
       "      <td>NaN</td>\n",
       "      <td>NaN</td>\n",
       "      <td>NaN</td>\n",
       "      <td>NaN</td>\n",
       "    </tr>\n",
       "    <tr>\n",
       "      <th>4</th>\n",
       "      <td>img_qh_train2_00004004439.jpg</td>\n",
       "      <td>LongSleeve</td>\n",
       "      <td>Solidcolor</td>\n",
       "      <td>Long</td>\n",
       "      <td>NaN</td>\n",
       "      <td>NaN</td>\n",
       "      <td>1.0</td>\n",
       "      <td>NaN</td>\n",
       "      <td>NaN</td>\n",
       "      <td>NaN</td>\n",
       "      <td>NaN</td>\n",
       "      <td>NaN</td>\n",
       "      <td>NaN</td>\n",
       "      <td>NaN</td>\n",
       "      <td>NaN</td>\n",
       "    </tr>\n",
       "  </tbody>\n",
       "</table>\n",
       "</div>"
      ],
      "text/plain": [
       "                            name upperLength clothesStyles hairStyles  \\\n",
       "0  img_qh_train2_00000006345.jpg  LongSleeve    Solidcolor      Short   \n",
       "1  img_qh_train2_00001008825.jpg  LongSleeve   multicolour      Short   \n",
       "2  img_qh_train2_00002004117.jpg  LongSleeve   multicolour       Long   \n",
       "3  img_qh_train2_00003002526.jpg  LongSleeve   multicolour      Short   \n",
       "4  img_qh_train2_00004004439.jpg  LongSleeve    Solidcolor       Long   \n",
       "\n",
       "   upperBlack  upperBrown  upperBlue  upperGreen  upperGray  upperOrange  \\\n",
       "0         NaN         NaN        NaN         NaN        NaN          NaN   \n",
       "1         0.4         NaN        NaN         NaN        NaN          NaN   \n",
       "2         NaN         NaN        NaN         NaN        NaN          NaN   \n",
       "3         0.8         NaN        NaN         NaN        0.2          NaN   \n",
       "4         NaN         NaN        1.0         NaN        NaN          NaN   \n",
       "\n",
       "   upperPink  upperPurple  upperRed  upperWhite  upperYellow  \n",
       "0        NaN          NaN       NaN         1.0          NaN  \n",
       "1        NaN          NaN       0.5         0.1          NaN  \n",
       "2        NaN          0.4       NaN         0.6          NaN  \n",
       "3        NaN          NaN       NaN         NaN          NaN  \n",
       "4        NaN          NaN       NaN         NaN          NaN  "
      ]
     },
     "execution_count": 19,
     "metadata": {},
     "output_type": "execute_result"
    }
   ],
   "source": [
    "train.head()"
   ]
  },
  {
   "cell_type": "code",
   "execution_count": 20,
   "id": "fb9e8abc",
   "metadata": {},
   "outputs": [
    {
     "data": {
      "text/plain": [
       "Index(['name', 'upperLength', 'clothesStyles', 'hairStyles', 'upperBlack',\n",
       "       'upperBrown', 'upperBlue', 'upperGreen', 'upperGray', 'upperOrange',\n",
       "       'upperPink', 'upperPurple', 'upperRed', 'upperWhite', 'upperYellow'],\n",
       "      dtype='object')"
      ]
     },
     "execution_count": 20,
     "metadata": {},
     "output_type": "execute_result"
    }
   ],
   "source": [
    "train.columns"
   ]
  },
  {
   "cell_type": "code",
   "execution_count": 6,
   "id": "ee3d0466",
   "metadata": {
    "gradient": {
     "editing": false,
     "id": "6a1246c3",
     "kernelId": ""
    }
   },
   "outputs": [
    {
     "name": "stdout",
     "output_type": "stream",
     "text": [
      "upperLength: \n",
      "NoSleeve         12\n",
      "ShortSleeve    1686\n",
      "LongSleeve     5302\n",
      "Name: upperLength, dtype: int64\n"
     ]
    },
    {
     "data": {
      "text/plain": [
       "<AxesSubplot:>"
      ]
     },
     "execution_count": 6,
     "metadata": {},
     "output_type": "execute_result"
    },
    {
     "data": {
      "image/png": "[encoded data removed]",
      "text/plain": [
       "<Figure size 432x288 with 1 Axes>"
      ]
     },
     "metadata": {
      "needs_background": "light"
     },
     "output_type": "display_data"
    }
   ],
   "source": [
    "# print(train.groupby('upperLength').count()['name'])\n",
    "# train['upperLength'].hist()\n",
    "print('upperLength: ')\n",
    "print(train['upperLength'].value_counts(ascending=True))\n",
    "train['upperLength'].value_counts(ascending=True).plot.bar()"
   ]
  },
  {
   "cell_type": "code",
   "execution_count": 7,
   "id": "f2a674ee",
   "metadata": {
    "gradient": {
     "editing": false,
     "id": "93c4f30c",
     "kernelId": ""
    }
   },
   "outputs": [
    {
     "name": "stdout",
     "output_type": "stream",
     "text": [
      "clothesStyles: \n",
      "lattice         183\n",
      "multicolour    1930\n",
      "Solidcolor     4887\n",
      "Name: clothesStyles, dtype: int64\n"
     ]
    },
    {
     "data": {
      "text/plain": [
       "<AxesSubplot:>"
      ]
     },
     "execution_count": 7,
     "metadata": {},
     "output_type": "execute_result"
    },
    {
     "data": {
      "image/png": "[encoded data removed]",
      "text/plain": [
       "<Figure size 432x288 with 1 Axes>"
      ]
     },
     "metadata": {
      "needs_background": "light"
     },
     "output_type": "display_data"
    }
   ],
   "source": [
    "# print(train.groupby('clothesStyles').count()['name'])\n",
    "# train['clothesStyles'].hist()\n",
    "\n",
    "print('clothesStyles: ')\n",
    "print(train['clothesStyles'].value_counts(ascending=True))\n",
    "train['clothesStyles'].value_counts(ascending=True).plot.bar()"
   ]
  },
  {
   "cell_type": "code",
   "execution_count": 8,
   "id": "78aef1d4",
   "metadata": {
    "gradient": {
     "editing": false,
     "id": "0d01f877",
     "kernelId": ""
    }
   },
   "outputs": [
    {
     "name": "stdout",
     "output_type": "stream",
     "text": [
      "hairStyles: \n",
      "Bald        12\n",
      "middle     764\n",
      "Long      2839\n",
      "Short     3385\n",
      "Name: hairStyles, dtype: int64\n"
     ]
    },
    {
     "data": {
      "text/plain": [
       "<AxesSubplot:>"
      ]
     },
     "execution_count": 8,
     "metadata": {},
     "output_type": "execute_result"
    },
    {
     "data": {
      "image/png": "[encoded data removed]",
      "text/plain": [
       "<Figure size 432x288 with 1 Axes>"
      ]
     },
     "metadata": {
      "needs_background": "light"
     },
     "output_type": "display_data"
    }
   ],
   "source": [
    "# print(train.groupby('hairStyles').count()['name'])\n",
    "# train['hairStyles'].hist()\n",
    "\n",
    "print('hairStyles: ')\n",
    "print(train['hairStyles'].value_counts(ascending=True))\n",
    "train['hairStyles'].value_counts(ascending=True).plot.bar()"
   ]
  },
  {
   "cell_type": "code",
   "execution_count": 9,
   "id": "cd1848a8",
   "metadata": {
    "gradient": {
     "editing": false,
     "id": "85ed05d2",
     "kernelId": ""
    }
   },
   "outputs": [
    {
     "name": "stdout",
     "output_type": "stream",
     "text": [
      "upperOrange     117\n",
      "upperPurple     213\n",
      "upperBrown      237\n",
      "upperGreen      246\n",
      "upperYellow     293\n",
      "upperPink       364\n",
      "upperRed        424\n",
      "upperBlue       662\n",
      "upperGray      1414\n",
      "upperWhite     2563\n",
      "upperBlack     2877\n",
      "dtype: int64\n"
     ]
    },
    {
     "data": {
      "text/plain": [
       "<AxesSubplot:>"
      ]
     },
     "execution_count": 9,
     "metadata": {},
     "output_type": "execute_result"
    },
    {
     "data": {
      "image/png": "[encoded data removed]",
      "text/plain": [
       "<Figure size 432x288 with 1 Axes>"
      ]
     },
     "metadata": {
      "needs_background": "light"
     },
     "output_type": "display_data"
    }
   ],
   "source": [
    "new_df = train.copy(deep=True)\n",
    "new_df.drop(['name','upperLength','clothesStyles', 'hairStyles'], axis=1, inplace=True)\n",
    "uppercolorsCount = new_df.count().sort_values()\n",
    "print(uppercolorsCount)\n",
    "uppercolorsCount.plot.bar()"
   ]
  },
  {
   "cell_type": "code",
   "execution_count": 21,
   "id": "1e1ee58b",
   "metadata": {
    "gradient": {
     "editing": false,
     "id": "618ddf38",
     "kernelId": ""
    }
   },
   "outputs": [
    {
     "data": {
      "text/html": [
       "<div>\n",
       "<style scoped>\n",
       "    .dataframe tbody tr th:only-of-type {\n",
       "        vertical-align: middle;\n",
       "    }\n",
       "\n",
       "    .dataframe tbody tr th {\n",
       "        vertical-align: top;\n",
       "    }\n",
       "\n",
       "    .dataframe thead th {\n",
       "        text-align: right;\n",
       "    }\n",
       "</style>\n",
       "<table border=\"1\" class=\"dataframe\">\n",
       "  <thead>\n",
       "    <tr style=\"text-align: right;\">\n",
       "      <th></th>\n",
       "      <th>upperBlack</th>\n",
       "      <th>upperBrown</th>\n",
       "      <th>upperBlue</th>\n",
       "      <th>upperGreen</th>\n",
       "      <th>upperGray</th>\n",
       "      <th>upperOrange</th>\n",
       "      <th>upperPink</th>\n",
       "      <th>upperPurple</th>\n",
       "      <th>upperRed</th>\n",
       "      <th>upperWhite</th>\n",
       "      <th>upperYellow</th>\n",
       "    </tr>\n",
       "    <tr>\n",
       "      <th>clothesStyles</th>\n",
       "      <th></th>\n",
       "      <th></th>\n",
       "      <th></th>\n",
       "      <th></th>\n",
       "      <th></th>\n",
       "      <th></th>\n",
       "      <th></th>\n",
       "      <th></th>\n",
       "      <th></th>\n",
       "      <th></th>\n",
       "      <th></th>\n",
       "    </tr>\n",
       "  </thead>\n",
       "  <tbody>\n",
       "    <tr>\n",
       "      <th>Solidcolor</th>\n",
       "      <td>1545</td>\n",
       "      <td>114</td>\n",
       "      <td>366</td>\n",
       "      <td>132</td>\n",
       "      <td>725</td>\n",
       "      <td>67</td>\n",
       "      <td>237</td>\n",
       "      <td>136</td>\n",
       "      <td>239</td>\n",
       "      <td>1181</td>\n",
       "      <td>148</td>\n",
       "    </tr>\n",
       "    <tr>\n",
       "      <th>lattice</th>\n",
       "      <td>133</td>\n",
       "      <td>13</td>\n",
       "      <td>12</td>\n",
       "      <td>2</td>\n",
       "      <td>59</td>\n",
       "      <td>0</td>\n",
       "      <td>6</td>\n",
       "      <td>1</td>\n",
       "      <td>15</td>\n",
       "      <td>139</td>\n",
       "      <td>5</td>\n",
       "    </tr>\n",
       "    <tr>\n",
       "      <th>multicolour</th>\n",
       "      <td>1199</td>\n",
       "      <td>110</td>\n",
       "      <td>284</td>\n",
       "      <td>112</td>\n",
       "      <td>630</td>\n",
       "      <td>50</td>\n",
       "      <td>121</td>\n",
       "      <td>76</td>\n",
       "      <td>170</td>\n",
       "      <td>1243</td>\n",
       "      <td>140</td>\n",
       "    </tr>\n",
       "  </tbody>\n",
       "</table>\n",
       "</div>"
      ],
      "text/plain": [
       "               upperBlack  upperBrown  upperBlue  upperGreen  upperGray  \\\n",
       "clothesStyles                                                             \n",
       "Solidcolor           1545         114        366         132        725   \n",
       "lattice               133          13         12           2         59   \n",
       "multicolour          1199         110        284         112        630   \n",
       "\n",
       "               upperOrange  upperPink  upperPurple  upperRed  upperWhite  \\\n",
       "clothesStyles                                                              \n",
       "Solidcolor              67        237          136       239        1181   \n",
       "lattice                  0          6            1        15         139   \n",
       "multicolour             50        121           76       170        1243   \n",
       "\n",
       "               upperYellow  \n",
       "clothesStyles               \n",
       "Solidcolor             148  \n",
       "lattice                  5  \n",
       "multicolour            140  "
      ]
     },
     "execution_count": 21,
     "metadata": {},
     "output_type": "execute_result"
    }
   ],
   "source": [
    "clothesStyles_group = train.groupby('clothesStyles').count()\n",
    "clothesStyles_group.drop(['name','upperLength', 'hairStyles'], axis=1, inplace=True)\n",
    "clothesStyles_group.head()"
   ]
  },
  {
   "cell_type": "code",
   "execution_count": 22,
   "id": "35f50029",
   "metadata": {
    "gradient": {
     "editing": false,
     "id": "7757944a",
     "kernelId": ""
    }
   },
   "outputs": [
    {
     "name": "stdout",
     "output_type": "stream",
     "text": [
      "upperOrange      67\n",
      "upperBrown      114\n",
      "upperGreen      132\n",
      "upperPurple     136\n",
      "upperYellow     148\n",
      "upperPink       237\n",
      "upperRed        239\n",
      "upperBlue       366\n",
      "upperGray       725\n",
      "upperWhite     1181\n",
      "upperBlack     1545\n",
      "Name: Solidcolor, dtype: int64\n"
     ]
    },
    {
     "data": {
      "text/plain": [
       "<AxesSubplot:>"
      ]
     },
     "execution_count": 22,
     "metadata": {},
     "output_type": "execute_result"
    },
    {
     "data": {
      "image/png": "[encoded data removed]",
      "text/plain": [
       "<Figure size 432x288 with 1 Axes>"
      ]
     },
     "metadata": {
      "needs_background": "light"
     },
     "output_type": "display_data"
    }
   ],
   "source": [
    "print(clothesStyles_group.loc['Solidcolor'].sort_values())\n",
    "clothesStyles_group.loc['Solidcolor'].sort_values().plot.bar()"
   ]
  },
  {
   "cell_type": "code",
   "execution_count": 23,
   "id": "c1739678",
   "metadata": {
    "gradient": {
     "editing": false,
     "id": "1764e2a6",
     "kernelId": ""
    }
   },
   "outputs": [
    {
     "name": "stdout",
     "output_type": "stream",
     "text": [
      "upperOrange      50\n",
      "upperPurple      76\n",
      "upperBrown      110\n",
      "upperGreen      112\n",
      "upperPink       121\n",
      "upperYellow     140\n",
      "upperRed        170\n",
      "upperBlue       284\n",
      "upperGray       630\n",
      "upperBlack     1199\n",
      "upperWhite     1243\n",
      "Name: multicolour, dtype: int64\n"
     ]
    },
    {
     "data": {
      "text/plain": [
       "<AxesSubplot:>"
      ]
     },
     "execution_count": 23,
     "metadata": {},
     "output_type": "execute_result"
    },
    {
     "data": {
      "image/png": "[encoded data removed]",
      "text/plain": [
       "<Figure size 432x288 with 1 Axes>"
      ]
     },
     "metadata": {
      "needs_background": "light"
     },
     "output_type": "display_data"
    }
   ],
   "source": [
    "print(clothesStyles_group.loc['multicolour'].sort_values())\n",
    "clothesStyles_group.loc['multicolour'].sort_values().plot.bar()"
   ]
  },
  {
   "cell_type": "code",
   "execution_count": 24,
   "id": "df9a3c42",
   "metadata": {
    "gradient": {
     "editing": false,
     "id": "3d9305f8",
     "kernelId": ""
    }
   },
   "outputs": [
    {
     "name": "stdout",
     "output_type": "stream",
     "text": [
      "upperOrange      0\n",
      "upperPurple      1\n",
      "upperGreen       2\n",
      "upperYellow      5\n",
      "upperPink        6\n",
      "upperBlue       12\n",
      "upperBrown      13\n",
      "upperRed        15\n",
      "upperGray       59\n",
      "upperBlack     133\n",
      "upperWhite     139\n",
      "Name: lattice, dtype: int64\n"
     ]
    },
    {
     "data": {
      "text/plain": [
       "<AxesSubplot:>"
      ]
     },
     "execution_count": 24,
     "metadata": {},
     "output_type": "execute_result"
    },
    {
     "data": {
      "image/png": "[encoded data removed]",
      "text/plain": [
       "<Figure size 432x288 with 1 Axes>"
      ]
     },
     "metadata": {
      "needs_background": "light"
     },
     "output_type": "display_data"
    }
   ],
   "source": [
    "print(clothesStyles_group.loc['lattice'].sort_values())\n",
    "clothesStyles_group.loc['lattice'].sort_values().plot.bar()"
   ]
  },
  {
   "cell_type": "code",
   "execution_count": 25,
   "id": "c4f46d17",
   "metadata": {
    "gradient": {
     "editing": false,
     "id": "72058c54",
     "kernelId": ""
    }
   },
   "outputs": [
    {
     "data": {
      "text/html": [
       "<div>\n",
       "<style scoped>\n",
       "    .dataframe tbody tr th:only-of-type {\n",
       "        vertical-align: middle;\n",
       "    }\n",
       "\n",
       "    .dataframe tbody tr th {\n",
       "        vertical-align: top;\n",
       "    }\n",
       "\n",
       "    .dataframe thead th {\n",
       "        text-align: right;\n",
       "    }\n",
       "</style>\n",
       "<table border=\"1\" class=\"dataframe\">\n",
       "  <thead>\n",
       "    <tr style=\"text-align: right;\">\n",
       "      <th></th>\n",
       "      <th>name</th>\n",
       "      <th>clothesStyles</th>\n",
       "      <th>color_count</th>\n",
       "    </tr>\n",
       "  </thead>\n",
       "  <tbody>\n",
       "    <tr>\n",
       "      <th>0</th>\n",
       "      <td>img_qh_train2_00000006345.jpg</td>\n",
       "      <td>Solidcolor</td>\n",
       "      <td>1</td>\n",
       "    </tr>\n",
       "    <tr>\n",
       "      <th>1</th>\n",
       "      <td>img_qh_train2_00001008825.jpg</td>\n",
       "      <td>multicolour</td>\n",
       "      <td>3</td>\n",
       "    </tr>\n",
       "    <tr>\n",
       "      <th>2</th>\n",
       "      <td>img_qh_train2_00002004117.jpg</td>\n",
       "      <td>multicolour</td>\n",
       "      <td>2</td>\n",
       "    </tr>\n",
       "    <tr>\n",
       "      <th>3</th>\n",
       "      <td>img_qh_train2_00003002526.jpg</td>\n",
       "      <td>multicolour</td>\n",
       "      <td>2</td>\n",
       "    </tr>\n",
       "    <tr>\n",
       "      <th>4</th>\n",
       "      <td>img_qh_train2_00004004439.jpg</td>\n",
       "      <td>Solidcolor</td>\n",
       "      <td>1</td>\n",
       "    </tr>\n",
       "  </tbody>\n",
       "</table>\n",
       "</div>"
      ],
      "text/plain": [
       "                            name clothesStyles  color_count\n",
       "0  img_qh_train2_00000006345.jpg    Solidcolor            1\n",
       "1  img_qh_train2_00001008825.jpg   multicolour            3\n",
       "2  img_qh_train2_00002004117.jpg   multicolour            2\n",
       "3  img_qh_train2_00003002526.jpg   multicolour            2\n",
       "4  img_qh_train2_00004004439.jpg    Solidcolor            1"
      ]
     },
     "execution_count": 25,
     "metadata": {},
     "output_type": "execute_result"
    }
   ],
   "source": [
    "color_count_df = train.copy(deep=True)\n",
    "colors = ['upperBlack',\n",
    "       'upperBrown', 'upperBlue', 'upperGreen', 'upperGray', 'upperOrange',\n",
    "       'upperPink', 'upperPurple', 'upperRed', 'upperWhite', 'upperYellow']\n",
    "def apply_color_count(series):\n",
    "    count = 0\n",
    "    for i in colors:\n",
    "        if series[i] > 0:\n",
    "            count = count + 1\n",
    "    return count\n",
    "\n",
    "color_count_df[\"color_count\"] = color_count_df.apply(apply_color_count, axis=1)\n",
    "\n",
    "color_count_df = color_count_df.drop(['upperLength', 'hairStyles', 'upperBlack',\n",
    "       'upperBrown', 'upperBlue', 'upperGreen', 'upperGray', 'upperOrange',\n",
    "       'upperPink', 'upperPurple', 'upperRed', 'upperWhite', 'upperYellow'], axis=1)\n",
    "\n",
    "color_count_df.head()"
   ]
  },
  {
   "cell_type": "code",
   "execution_count": 26,
   "id": "a898bd1f",
   "metadata": {
    "gradient": {
     "editing": false,
     "id": "09afe0d6",
     "kernelId": ""
    }
   },
   "outputs": [
    {
     "name": "stdout",
     "output_type": "stream",
     "text": [
      "[error label multicolour] name:  img_qh_train2_02368001422.jpg\n",
      "[error label multicolour] name:  img_qh_train2_03848006214.jpg\n",
      "[error label multicolour] name:  img_qh_train2_03917003653.jpg\n",
      "[error label multicolour] name:  img_qh_train2_03941004803.jpg\n",
      "[error label Solidcolor] name:  img_qh_train2_03952001195.jpg\n",
      "[error label Solidcolor] name:  img_qh_train2_03999004246.jpg\n"
     ]
    }
   ],
   "source": [
    "for index, row in color_count_df.iterrows():\n",
    "    if row['clothesStyles'] == 'Solidcolor' and row['color_count'] > 1:\n",
    "        print('[error label Solidcolor] name: ', row['name'])\n",
    "    if row['clothesStyles'] == 'lattice' and row['color_count'] < 2:\n",
    "        print('[error label lattice] name: ', row['name'])\n",
    "    if row['clothesStyles'] == 'multicolour' and row['color_count'] < 2:\n",
    "        print('[error label multicolour] name: ', row['name'])"
   ]
  },
  {
   "cell_type": "code",
   "execution_count": 27,
   "id": "bc08811c",
   "metadata": {
    "gradient": {
     "editing": false,
     "id": "6d64d288",
     "kernelId": ""
    }
   },
   "outputs": [
    {
     "data": {
      "text/html": [
       "<div>\n",
       "<style scoped>\n",
       "    .dataframe tbody tr th:only-of-type {\n",
       "        vertical-align: middle;\n",
       "    }\n",
       "\n",
       "    .dataframe tbody tr th {\n",
       "        vertical-align: top;\n",
       "    }\n",
       "\n",
       "    .dataframe thead th {\n",
       "        text-align: right;\n",
       "    }\n",
       "</style>\n",
       "<table border=\"1\" class=\"dataframe\">\n",
       "  <thead>\n",
       "    <tr style=\"text-align: right;\">\n",
       "      <th></th>\n",
       "      <th>clothesStyles</th>\n",
       "      <th>one</th>\n",
       "      <th>two</th>\n",
       "      <th>three</th>\n",
       "    </tr>\n",
       "  </thead>\n",
       "  <tbody>\n",
       "    <tr>\n",
       "      <th>0</th>\n",
       "      <td>Solidcolor</td>\n",
       "      <td>1</td>\n",
       "      <td>0</td>\n",
       "      <td>0</td>\n",
       "    </tr>\n",
       "    <tr>\n",
       "      <th>1</th>\n",
       "      <td>multicolour</td>\n",
       "      <td>0</td>\n",
       "      <td>0</td>\n",
       "      <td>1</td>\n",
       "    </tr>\n",
       "    <tr>\n",
       "      <th>2</th>\n",
       "      <td>multicolour</td>\n",
       "      <td>0</td>\n",
       "      <td>1</td>\n",
       "      <td>0</td>\n",
       "    </tr>\n",
       "    <tr>\n",
       "      <th>3</th>\n",
       "      <td>multicolour</td>\n",
       "      <td>0</td>\n",
       "      <td>1</td>\n",
       "      <td>0</td>\n",
       "    </tr>\n",
       "    <tr>\n",
       "      <th>4</th>\n",
       "      <td>Solidcolor</td>\n",
       "      <td>1</td>\n",
       "      <td>0</td>\n",
       "      <td>0</td>\n",
       "    </tr>\n",
       "  </tbody>\n",
       "</table>\n",
       "</div>"
      ],
      "text/plain": [
       "  clothesStyles  one  two  three\n",
       "0    Solidcolor    1    0      0\n",
       "1   multicolour    0    0      1\n",
       "2   multicolour    0    1      0\n",
       "3   multicolour    0    1      0\n",
       "4    Solidcolor    1    0      0"
      ]
     },
     "execution_count": 27,
     "metadata": {},
     "output_type": "execute_result"
    }
   ],
   "source": [
    "color_frequency_df = color_count_df.copy(deep=True)\n",
    "def apply_color_frequency_item(series, frequency):\n",
    "    if series['color_count'] == frequency:\n",
    "        return 1\n",
    "    else:\n",
    "        return 0\n",
    "\n",
    "color_frequency_df[\"one\"] = color_frequency_df.apply(apply_color_frequency_item, args=(1,), axis=1)\n",
    "color_frequency_df[\"two\"] = color_frequency_df.apply(apply_color_frequency_item, args=(2,), axis=1)\n",
    "color_frequency_df[\"three\"] = color_frequency_df.apply(apply_color_frequency_item, args=(3,), axis=1)\n",
    "\n",
    "color_frequency_df = color_frequency_df.drop(['name', 'color_count'], axis=1)\n",
    "color_frequency_df.head()"
   ]
  },
  {
   "cell_type": "code",
   "execution_count": 28,
   "id": "97a3d22b",
   "metadata": {
    "gradient": {
     "editing": false,
     "id": "4a80a63d",
     "kernelId": ""
    }
   },
   "outputs": [
    {
     "data": {
      "text/html": [
       "<div>\n",
       "<style scoped>\n",
       "    .dataframe tbody tr th:only-of-type {\n",
       "        vertical-align: middle;\n",
       "    }\n",
       "\n",
       "    .dataframe tbody tr th {\n",
       "        vertical-align: top;\n",
       "    }\n",
       "\n",
       "    .dataframe thead th {\n",
       "        text-align: right;\n",
       "    }\n",
       "</style>\n",
       "<table border=\"1\" class=\"dataframe\">\n",
       "  <thead>\n",
       "    <tr style=\"text-align: right;\">\n",
       "      <th></th>\n",
       "      <th>one</th>\n",
       "      <th>two</th>\n",
       "      <th>three</th>\n",
       "    </tr>\n",
       "    <tr>\n",
       "      <th>clothesStyles</th>\n",
       "      <th></th>\n",
       "      <th></th>\n",
       "      <th></th>\n",
       "    </tr>\n",
       "  </thead>\n",
       "  <tbody>\n",
       "    <tr>\n",
       "      <th>Solidcolor</th>\n",
       "      <td>4885</td>\n",
       "      <td>1</td>\n",
       "      <td>1</td>\n",
       "    </tr>\n",
       "    <tr>\n",
       "      <th>lattice</th>\n",
       "      <td>0</td>\n",
       "      <td>164</td>\n",
       "      <td>19</td>\n",
       "    </tr>\n",
       "    <tr>\n",
       "      <th>multicolour</th>\n",
       "      <td>4</td>\n",
       "      <td>1652</td>\n",
       "      <td>269</td>\n",
       "    </tr>\n",
       "  </tbody>\n",
       "</table>\n",
       "</div>"
      ],
      "text/plain": [
       "                one   two  three\n",
       "clothesStyles                   \n",
       "Solidcolor     4885     1      1\n",
       "lattice           0   164     19\n",
       "multicolour       4  1652    269"
      ]
     },
     "execution_count": 28,
     "metadata": {},
     "output_type": "execute_result"
    }
   ],
   "source": [
    "color_frequency_df = color_frequency_df.groupby('clothesStyles').sum()\n",
    "color_frequency_df.head()"
   ]
  },
  {
   "cell_type": "code",
   "execution_count": 29,
   "id": "57cff448",
   "metadata": {
    "gradient": {
     "editing": false,
     "id": "3cb5eb85",
     "kernelId": ""
    }
   },
   "outputs": [
    {
     "data": {
      "text/plain": [
       "<AxesSubplot:xlabel='clothesStyles'>"
      ]
     },
     "execution_count": 29,
     "metadata": {},
     "output_type": "execute_result"
    },
    {
     "data": {
      "image/png": "[encoded data removed]",
      "text/plain": [
       "<Figure size 432x288 with 1 Axes>"
      ]
     },
     "metadata": {
      "needs_background": "light"
     },
     "output_type": "display_data"
    }
   ],
   "source": [
    "color_frequency_df.plot.bar()"
   ]
  }
 ],
 "metadata": {
  "kernelspec": {
   "display_name": "Python 3 (ipykernel)",
   "language": "python",
   "name": "python3"
  },
  "language_info": {
   "codemirror_mode": {
    "name": "ipython",
    "version": 3
   },
   "file_extension": ".py",
   "mimetype": "text/x-python",
   "name": "python",
   "nbconvert_exporter": "python",
   "pygments_lexer": "ipython3",
   "version": "3.8.12"
  }
 },
 "nbformat": 4,
 "nbformat_minor": 5
}
